{
 "cells": [
  {
   "cell_type": "markdown",
   "id": "5776b465-b446-4cc7-908c-26b4a93e1cc8",
   "metadata": {
    "id": "5776b465-b446-4cc7-908c-26b4a93e1cc8"
   },
   "source": [
    "### CNN"
   ]
  },
  {
   "cell_type": "markdown",
   "id": "357208c6-6105-4209-8b03-c3b2df12c4ef",
   "metadata": {
    "id": "357208c6-6105-4209-8b03-c3b2df12c4ef"
   },
   "source": [
    "### Import libraries"
   ]
  },
  {
   "cell_type": "code",
   "execution_count": null,
   "id": "9955a1a5",
   "metadata": {
    "colab": {
     "base_uri": "https://localhost:8080/"
    },
    "id": "9955a1a5",
    "outputId": "ece8fb24-077b-44c4-a5e3-86bbdf244738"
   },
   "outputs": [],
   "source": [
    "import pandas as pd\n",
    "import numpy as np\n",
    "import re\n",
    "from tensorflow.keras.preprocessing.text import Tokenizer\n",
    "from tensorflow.keras.preprocessing.sequence import pad_sequences\n",
    "from nltk.corpus import stopwords\n",
    "from nltk.stem import WordNetLemmatizer\n",
    "from tensorflow.keras.layers import Input, Embedding, Dense, Flatten, Concatenate, Dropout, Conv1D, MaxPooling1D\n",
    "from tensorflow.keras.models import Model\n",
    "import optuna\n",
    "from tensorflow.keras.optimizers import Adam\n",
    "from sklearn.metrics import classification_report, confusion_matrix\n",
    "import seaborn as sns\n",
    "import matplotlib.pyplot as plt\n",
    "from tensorflow.keras.callbacks import EarlyStopping\n",
    "\n",
    "import nltk\n",
    "nltk.download('stopwords')\n",
    "nltk.download('wordnet')"
   ]
  },
  {
   "cell_type": "markdown",
   "id": "8d3ae439",
   "metadata": {
    "id": "8d3ae439"
   },
   "source": [
    "### Preprocessing module"
   ]
  },
  {
   "cell_type": "code",
   "execution_count": null,
   "id": "6fcecbbe-39d2-4e6b-a077-bc8b32c4a91a",
   "metadata": {
    "id": "6fcecbbe-39d2-4e6b-a077-bc8b32c4a91a"
   },
   "outputs": [],
   "source": [
    "# Load data\n",
    "train_url = 'https://raw.githubusercontent.com/mhjabreel/CharCnn_Keras/master/data/ag_news_csv/train.csv'\n",
    "test_url = 'https://raw.githubusercontent.com/mhjabreel/CharCnn_Keras/master/data/ag_news_csv/test.csv'\n",
    "\n",
    "train_df = pd.read_csv(train_url, header=None)\n",
    "test_df = pd.read_csv(test_url, header=None)\n",
    "train_df.columns = ['Class Index', 'Title', 'Description']\n",
    "test_df.columns = ['Class Index', 'Title', 'Description']"
   ]
  },
  {
   "cell_type": "code",
   "execution_count": null,
   "id": "98322476-1cc5-4d7a-a92c-e21b710aeed2",
   "metadata": {
    "colab": {
     "base_uri": "https://localhost:8080/"
    },
    "id": "98322476-1cc5-4d7a-a92c-e21b710aeed2",
    "outputId": "2a991b81-c5bd-40a6-ede2-998db6d0ec4f"
   },
   "outputs": [],
   "source": [
    "# Define stop words and lemmatizer for text cleaning\n",
    "stop_words = set(stopwords.words('english'))\n",
    "lemmatizer = WordNetLemmatizer()\n",
    "\n",
    "def preprocess_text(text):\n",
    "    text = text.lower() # convert text to lowercase\n",
    "    text = re.sub(r'\\b(u\\.s\\.|us)\\b', 'usa', text, flags=re.IGNORECASE)  # replace \"U.S.\" or \"US\" with \"usa\"\n",
    "    text = re.sub(r'<[^>]+>', '', text)  # remove HTML tags\n",
    "    text = re.sub(r'&\\w+;', '', text)  # remove HTML entities\n",
    "    text = re.sub(r'[^a-z\\s]', '', text)  # remove numbers and punctuation (keep only letters and spaces)\n",
    "    words = text.split()\n",
    "    words = [word for word in words if word not in stop_words] # remove stop-words, tokenization\n",
    "    words = [lemmatizer.lemmatize(word) for word in words] # lemmatization\n",
    "    return ' '.join(words) # combining words into a string\n",
    "\n",
    "# Apply preprocessing\n",
    "train_df['clean_text'] = (train_df['Title'] + ' ' + train_df['Description']).apply(preprocess_text)\n",
    "test_df['clean_text'] = (test_df['Title'] + ' ' + test_df['Description']).apply(preprocess_text)\n",
    "\n",
    "# Tokenization and padding\n",
    "tokenizer = Tokenizer(num_words=5000)\n",
    "tokenizer.fit_on_texts(train_df['clean_text'])\n",
    "max_length_titles = max([len(x.split()) for x in train_df['Title']])\n",
    "max_length_descriptions = max([len(x.split()) for x in train_df['Description']])\n",
    "\n",
    "X_train_title_pad = pad_sequences(tokenizer.texts_to_sequences(train_df['Title']), maxlen=max_length_titles)\n",
    "X_test_title_pad = pad_sequences(tokenizer.texts_to_sequences(test_df['Title']), maxlen=max_length_titles)\n",
    "X_train_description_pad = pad_sequences(tokenizer.texts_to_sequences(train_df['Description']), maxlen=max_length_descriptions)\n",
    "X_test_description_pad = pad_sequences(tokenizer.texts_to_sequences(test_df['Description']), maxlen=max_length_descriptions)\n",
    "\n",
    "y_train = train_df['Class Index'].values - 1\n",
    "y_test = test_df['Class Index'].values - 1\n",
    "\n",
    "# Download and load GloVe embeddings\n",
    "!wget http://nlp.stanford.edu/data/glove.6B.zip\n",
    "!unzip glove.6B.zip\n",
    "\n",
    "# Load GloVe embeddings\n",
    "embedding_index = {}\n",
    "with open('/content/drive/MyDrive/glove.6B.100d.txt', encoding='utf-8') as f:\n",
    "    for line in f:\n",
    "        values = line.split()\n",
    "        word = values[0]\n",
    "        coefs = np.asarray(values[1:], dtype='float32')\n",
    "        embedding_index[word] = coefs\n",
    "\n",
    "embedding_matrix = np.zeros((5000, 100))\n",
    "for word, i in tokenizer.word_index.items():\n",
    "    if i < 5000:\n",
    "        embedding_vector = embedding_index.get(word)\n",
    "        if embedding_vector is not None:\n",
    "            embedding_matrix[i] = embedding_vector\n",
    "\n",
    "embedding_layer = Embedding(input_dim=5000, output_dim=100, weights=[embedding_matrix], trainable=False)"
   ]
  },
  {
   "cell_type": "markdown",
   "id": "74979b6e",
   "metadata": {
    "id": "74979b6e"
   },
   "source": [
    "### Basic training module"
   ]
  },
  {
   "cell_type": "code",
   "execution_count": null,
   "id": "55ecc3bd",
   "metadata": {
    "colab": {
     "base_uri": "https://localhost:8080/"
    },
    "id": "55ecc3bd",
    "outputId": "53ef8251-3c12-4696-d631-abc85e4af64b"
   },
   "outputs": [],
   "source": [
    "# Define CNN model architecture\n",
    "title_input = Input(shape=(max_length_titles,), name='title_input')\n",
    "title_embedding = embedding_layer(title_input)\n",
    "title_conv1d = Conv1D(filters=128, kernel_size=3, activation='relu')(title_embedding)\n",
    "title_maxpool = MaxPooling1D(pool_size=2)(title_conv1d)\n",
    "title_flatten = Flatten()(title_maxpool)\n",
    "\n",
    "description_input = Input(shape=(max_length_descriptions,), name='description_input')\n",
    "description_embedding = embedding_layer(description_input)\n",
    "description_conv1d = Conv1D(filters=128, kernel_size=3, activation='relu')(description_embedding)\n",
    "description_maxpool = MaxPooling1D(pool_size=2)(description_conv1d)\n",
    "description_flatten = Flatten()(description_maxpool)\n",
    "\n",
    "merged = Concatenate()([title_flatten, description_flatten])\n",
    "dense_1 = Dense(128, activation='relu')(merged)\n",
    "dense_2 = Dense(64, activation='relu')(dense_1)\n",
    "output = Dense(4, activation='softmax')(dense_2)\n",
    "\n",
    "model = Model(inputs=[title_input, description_input], outputs=output)\n",
    "model.compile(optimizer=Adam(learning_rate=3e-5), loss='sparse_categorical_crossentropy', metrics=['accuracy'])\n",
    "early_stopping = EarlyStopping(monitor='val_loss', patience=3, restore_best_weights=True)\n",
    "\n",
    "# Train the baseline model\n",
    "model.fit([X_train_title_pad, X_train_description_pad], y_train, validation_split=0.1,\n",
    "          epochs=5, batch_size=32, callbacks=[early_stopping], verbose=1)"
   ]
  },
  {
   "cell_type": "markdown",
   "id": "5b332102-77ff-4925-90bd-99a4ed086ee1",
   "metadata": {
    "id": "5b332102-77ff-4925-90bd-99a4ed086ee1"
   },
   "source": [
    "### Testing Module 1 (Base Model)"
   ]
  },
  {
   "cell_type": "code",
   "execution_count": null,
   "id": "6eb959e3-bd59-4508-9681-68aee4a21ba4",
   "metadata": {
    "colab": {
     "base_uri": "https://localhost:8080/",
     "height": 814
    },
    "id": "6eb959e3-bd59-4508-9681-68aee4a21ba4",
    "outputId": "2dd6b79c-188d-4367-cc74-eacb7f361d11"
   },
   "outputs": [],
   "source": [
    "# Evaluate baseline model\n",
    "y_pred = model.predict([X_test_title_pad, X_test_description_pad])\n",
    "y_pred_classes = y_pred.argmax(axis=1)\n",
    "\n",
    "baseline_accuracy = (y_pred_classes == y_test).mean()\n",
    "print(f'Baseline Test Accuracy: {baseline_accuracy:.4f}')\n",
    "print(\"Baseline Classification Report:\")\n",
    "print(classification_report(y_test, y_pred_classes))\n",
    "\n",
    "# Confusion Matrix\n",
    "conf_matrix = confusion_matrix(y_test, y_pred_classes)\n",
    "plt.figure(figsize=(8, 6))\n",
    "sns.heatmap(conf_matrix, annot=True, fmt='d', cmap='Blues', xticklabels=[0, 1, 2, 3], yticklabels=[0, 1, 2, 3])\n",
    "plt.xlabel('Predicted Label')\n",
    "plt.ylabel('True Label')\n",
    "plt.title('Baseline Confusion Matrix')\n",
    "plt.show()"
   ]
  },
  {
   "cell_type": "markdown",
   "id": "c75cf88e",
   "metadata": {
    "id": "c75cf88e"
   },
   "source": [
    "### Hyperparameter selection module"
   ]
  },
  {
   "cell_type": "code",
   "execution_count": null,
   "id": "09a99bdf",
   "metadata": {
    "colab": {
     "base_uri": "https://localhost:8080/"
    },
    "id": "09a99bdf",
    "outputId": "347a3d43-00df-41af-9593-32a4e66afe2c"
   },
   "outputs": [],
   "source": [
    "def model_builder(trial):\n",
    "    # Define hyperparameters for optimization\n",
    "    dropout_rate = trial.suggest_float('dropout_rate', 0.0, 0.5)\n",
    "    learning_rate = trial.suggest_float('learning_rate', 1e-5, 1e-2, log=True)\n",
    "    filters = trial.suggest_int('filters', 64, 256)\n",
    "    kernel_size = trial.suggest_int('kernel_size', 3, 5)\n",
    "    num_units = trial.suggest_int('num_units', 64, 512)\n",
    "\n",
    "    # Define CNN model structure with Optuna parameters\n",
    "    title_input = Input(shape=(max_length_titles,), name='title_input')\n",
    "    title_embedding = embedding_layer(title_input)\n",
    "    title_conv1d = Conv1D(filters=filters, kernel_size=kernel_size, activation='relu')(title_embedding)\n",
    "    title_maxpool = MaxPooling1D(pool_size=2)(title_conv1d)\n",
    "    title_flatten = Flatten()(title_maxpool)\n",
    "\n",
    "    description_input = Input(shape=(max_length_descriptions,), name='description_input')\n",
    "    description_embedding = embedding_layer(description_input)\n",
    "    description_conv1d = Conv1D(filters=filters, kernel_size=kernel_size, activation='relu')(description_embedding)\n",
    "    description_maxpool = MaxPooling1D(pool_size=2)(description_conv1d)\n",
    "    description_flatten = Flatten()(description_maxpool)\n",
    "\n",
    "    merged = Concatenate()([title_flatten, description_flatten])\n",
    "    dense_1 = Dense(num_units, activation='relu')(merged)\n",
    "    dropout_1 = Dropout(dropout_rate)(dense_1)\n",
    "    output = Dense(4, activation='softmax')(dropout_1)\n",
    "\n",
    "    model = Model(inputs=[title_input, description_input], outputs=output)\n",
    "    optimizer = Adam(learning_rate=learning_rate)\n",
    "    model.compile(optimizer=optimizer, loss='sparse_categorical_crossentropy', metrics=['accuracy'])\n",
    "    return model\n",
    "\n",
    "# Objective function for Optuna\n",
    "def objective(trial):\n",
    "    model = model_builder(trial)\n",
    "    model.fit([X_train_title_pad, X_train_description_pad], y_train, validation_split=0.1, epochs=3, batch_size=32, verbose=1)\n",
    "    _, accuracy = model.evaluate([X_test_title_pad, X_test_description_pad], y_test, verbose=1)\n",
    "    return accuracy\n",
    "\n",
    "# Run Optuna optimization\n",
    "study = optuna.create_study(direction='maximize')\n",
    "study.optimize(objective, n_trials=5)\n",
    "print(\"Best Trial:\", study.best_trial)"
   ]
  },
  {
   "cell_type": "markdown",
   "id": "0a05cc49-7725-4cc1-aea4-ed059e188af0",
   "metadata": {
    "id": "0a05cc49-7725-4cc1-aea4-ed059e188af0"
   },
   "source": [
    "### Testing module 2 (Optimized Model)"
   ]
  },
  {
   "cell_type": "code",
   "execution_count": null,
   "id": "ee46cd1e-6845-4f0e-835c-ce96554e3a86",
   "metadata": {
    "colab": {
     "base_uri": "https://localhost:8080/",
     "height": 993
    },
    "id": "ee46cd1e-6845-4f0e-835c-ce96554e3a86",
    "outputId": "e90ed53a-ec52-4a5f-be8f-62ff04bedab2"
   },
   "outputs": [],
   "source": [
    "# Load the best model from Optuna optimization\n",
    "best_trial = study.best_trial\n",
    "model = model_builder(best_trial)\n",
    "model.fit([X_train_title_pad, X_train_description_pad], y_train, validation_split=0.1, epochs=5, batch_size=32, verbose=1)\n",
    "\n",
    "# Evaluate optimized model\n",
    "y_pred = model.predict([X_test_title_pad, X_test_description_pad])\n",
    "y_pred_classes = y_pred.argmax(axis=1)\n",
    "\n",
    "final_accuracy = (y_pred_classes == y_test).mean()\n",
    "print(f'Final Test Accuracy: {final_accuracy:.4f}')\n",
    "print(\"Final Classification Report:\")\n",
    "print(classification_report(y_test, y_pred_classes))\n",
    "\n",
    "# Confusion Matrix for optimized model\n",
    "conf_matrix = confusion_matrix(y_test, y_pred_classes)\n",
    "plt.figure(figsize=(8, 6))\n",
    "sns.heatmap(conf_matrix, annot=True, fmt='d', cmap='Blues', xticklabels=[0, 1, 2, 3], yticklabels=[0, 1, 2, 3])\n",
    "plt.xlabel('Predicted Label')\n",
    "plt.ylabel('True Label')\n",
    "plt.title('Optimized Model Confusion Matrix')\n",
    "plt.show()"
   ]
  },
  {
   "cell_type": "code",
   "execution_count": null,
   "id": "f8067f72-a519-4449-ac64-8ae3e97291ec",
   "metadata": {
    "id": "f8067f72-a519-4449-ac64-8ae3e97291ec"
   },
   "outputs": [],
   "source": []
  }
 ],
 "metadata": {
  "accelerator": "GPU",
  "colab": {
   "gpuType": "A100",
   "machine_shape": "hm",
   "provenance": []
  },
  "kernelspec": {
   "display_name": "Python 3 (ipykernel)",
   "language": "python",
   "name": "python3"
  },
  "language_info": {
   "codemirror_mode": {
    "name": "ipython",
    "version": 3
   },
   "file_extension": ".py",
   "mimetype": "text/x-python",
   "name": "python",
   "nbconvert_exporter": "python",
   "pygments_lexer": "ipython3",
   "version": "3.12.4"
  }
 },
 "nbformat": 4,
 "nbformat_minor": 5
}
