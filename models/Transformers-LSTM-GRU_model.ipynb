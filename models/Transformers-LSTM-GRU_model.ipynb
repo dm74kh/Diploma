{
  "cells": [
    {
      "cell_type": "markdown",
      "id": "7e4571f8-1f4c-40f4-93ee-b6800f977d69",
      "metadata": {
        "id": "7e4571f8-1f4c-40f4-93ee-b6800f977d69"
      },
      "source": [
        "## Transformers-LSTM-GRU"
      ]
    },
    {
      "cell_type": "markdown",
      "id": "9734eb92-1388-4c79-ba6f-60c375612e61",
      "metadata": {
        "id": "9734eb92-1388-4c79-ba6f-60c375612e61"
      },
      "source": [
        "### Import Libraries"
      ]
    },
    {
      "cell_type": "code",
      "execution_count": 1,
      "id": "5ac00fcf-1633-490e-8cfc-d6bab63ae471",
      "metadata": {
        "colab": {
          "base_uri": "https://localhost:8080/"
        },
        "id": "5ac00fcf-1633-490e-8cfc-d6bab63ae471",
        "outputId": "6dfec136-120e-41dc-c4ee-2e2e39727a5b"
      },
      "outputs": [
        {
          "output_type": "stream",
          "name": "stdout",
          "text": [
            "Collecting optuna\n",
            "  Downloading optuna-4.0.0-py3-none-any.whl.metadata (16 kB)\n",
            "Collecting alembic>=1.5.0 (from optuna)\n",
            "  Downloading alembic-1.13.3-py3-none-any.whl.metadata (7.4 kB)\n",
            "Collecting colorlog (from optuna)\n",
            "  Downloading colorlog-6.8.2-py3-none-any.whl.metadata (10 kB)\n",
            "Requirement already satisfied: numpy in /usr/local/lib/python3.10/dist-packages (from optuna) (1.26.4)\n",
            "Requirement already satisfied: packaging>=20.0 in /usr/local/lib/python3.10/dist-packages (from optuna) (24.1)\n",
            "Requirement already satisfied: sqlalchemy>=1.3.0 in /usr/local/lib/python3.10/dist-packages (from optuna) (2.0.36)\n",
            "Requirement already satisfied: tqdm in /usr/local/lib/python3.10/dist-packages (from optuna) (4.66.5)\n",
            "Requirement already satisfied: PyYAML in /usr/local/lib/python3.10/dist-packages (from optuna) (6.0.2)\n",
            "Collecting Mako (from alembic>=1.5.0->optuna)\n",
            "  Downloading Mako-1.3.6-py3-none-any.whl.metadata (2.9 kB)\n",
            "Requirement already satisfied: typing-extensions>=4 in /usr/local/lib/python3.10/dist-packages (from alembic>=1.5.0->optuna) (4.12.2)\n",
            "Requirement already satisfied: greenlet!=0.4.17 in /usr/local/lib/python3.10/dist-packages (from sqlalchemy>=1.3.0->optuna) (3.1.1)\n",
            "Requirement already satisfied: MarkupSafe>=0.9.2 in /usr/local/lib/python3.10/dist-packages (from Mako->alembic>=1.5.0->optuna) (3.0.2)\n",
            "Downloading optuna-4.0.0-py3-none-any.whl (362 kB)\n",
            "\u001b[2K   \u001b[90m━━━━━━━━━━━━━━━━━━━━━━━━━━━━━━━━━━━━━━━━\u001b[0m \u001b[32m362.8/362.8 kB\u001b[0m \u001b[31m30.5 MB/s\u001b[0m eta \u001b[36m0:00:00\u001b[0m\n",
            "\u001b[?25hDownloading alembic-1.13.3-py3-none-any.whl (233 kB)\n",
            "\u001b[2K   \u001b[90m━━━━━━━━━━━━━━━━━━━━━━━━━━━━━━━━━━━━━━━━\u001b[0m \u001b[32m233.2/233.2 kB\u001b[0m \u001b[31m22.5 MB/s\u001b[0m eta \u001b[36m0:00:00\u001b[0m\n",
            "\u001b[?25hDownloading colorlog-6.8.2-py3-none-any.whl (11 kB)\n",
            "Downloading Mako-1.3.6-py3-none-any.whl (78 kB)\n",
            "\u001b[2K   \u001b[90m━━━━━━━━━━━━━━━━━━━━━━━━━━━━━━━━━━━━━━━━\u001b[0m \u001b[32m78.6/78.6 kB\u001b[0m \u001b[31m8.3 MB/s\u001b[0m eta \u001b[36m0:00:00\u001b[0m\n",
            "\u001b[?25hInstalling collected packages: Mako, colorlog, alembic, optuna\n",
            "Successfully installed Mako-1.3.6 alembic-1.13.3 colorlog-6.8.2 optuna-4.0.0\n"
          ]
        },
        {
          "output_type": "stream",
          "name": "stderr",
          "text": [
            "[nltk_data] Downloading package stopwords to /root/nltk_data...\n",
            "[nltk_data]   Unzipping corpora/stopwords.zip.\n",
            "[nltk_data] Downloading package wordnet to /root/nltk_data...\n"
          ]
        },
        {
          "output_type": "execute_result",
          "data": {
            "text/plain": [
              "True"
            ]
          },
          "metadata": {},
          "execution_count": 1
        }
      ],
      "source": [
        "!pip install optuna\n",
        "\n",
        "import pandas as pd\n",
        "import numpy as np\n",
        "import re\n",
        "from tensorflow.keras.preprocessing.text import Tokenizer\n",
        "from tensorflow.keras.preprocessing.sequence import pad_sequences\n",
        "from nltk.corpus import stopwords\n",
        "from nltk.stem import WordNetLemmatizer\n",
        "from tensorflow.keras.layers import Input, Embedding, Dense, Flatten, Concatenate, Dropout, Conv1D, MaxPooling1D, LSTM, GRU\n",
        "from tensorflow.keras.models import Model\n",
        "import optuna\n",
        "from tensorflow.keras.optimizers import Adam\n",
        "from sklearn.metrics import classification_report, confusion_matrix\n",
        "import seaborn as sns\n",
        "import matplotlib.pyplot as plt\n",
        "from tensorflow.keras.callbacks import EarlyStopping\n",
        "\n",
        "import nltk\n",
        "nltk.download('stopwords')\n",
        "nltk.download('wordnet')"
      ]
    },
    {
      "cell_type": "markdown",
      "id": "bce20941-4a39-4af1-923d-342a88588108",
      "metadata": {
        "id": "bce20941-4a39-4af1-923d-342a88588108"
      },
      "source": [
        "### Preprocessing module"
      ]
    },
    {
      "cell_type": "code",
      "execution_count": 2,
      "id": "9aa93215-1b22-4871-ba0e-b5764c42d0b5",
      "metadata": {
        "id": "9aa93215-1b22-4871-ba0e-b5764c42d0b5"
      },
      "outputs": [],
      "source": [
        "# Load the data\n",
        "train_url = 'https://raw.githubusercontent.com/mhjabreel/CharCnn_Keras/master/data/ag_news_csv/train.csv'\n",
        "test_url = 'https://raw.githubusercontent.com/mhjabreel/CharCnn_Keras/master/data/ag_news_csv/test.csv'\n",
        "\n",
        "train_df = pd.read_csv(train_url, header=None)\n",
        "test_df = pd.read_csv(test_url, header=None)\n",
        "\n",
        "train_df.columns = ['Class Index', 'Title', 'Description']\n",
        "test_df.columns = ['Class Index', 'Title', 'Description']"
      ]
    },
    {
      "cell_type": "code",
      "execution_count": 3,
      "id": "1bf810f2-c8ba-48f4-91bf-0ec458af9ab7",
      "metadata": {
        "colab": {
          "base_uri": "https://localhost:8080/"
        },
        "id": "1bf810f2-c8ba-48f4-91bf-0ec458af9ab7",
        "outputId": "2c32ca74-96b6-4dfe-b4c4-e53697d24a60"
      },
      "outputs": [
        {
          "output_type": "stream",
          "name": "stdout",
          "text": [
            "--2024-10-29 18:24:03--  http://nlp.stanford.edu/data/glove.6B.zip\n",
            "Resolving nlp.stanford.edu (nlp.stanford.edu)... 171.64.67.140\n",
            "Connecting to nlp.stanford.edu (nlp.stanford.edu)|171.64.67.140|:80... connected.\n",
            "HTTP request sent, awaiting response... 302 Found\n",
            "Location: https://nlp.stanford.edu/data/glove.6B.zip [following]\n",
            "--2024-10-29 18:24:03--  https://nlp.stanford.edu/data/glove.6B.zip\n",
            "Connecting to nlp.stanford.edu (nlp.stanford.edu)|171.64.67.140|:443... connected.\n",
            "HTTP request sent, awaiting response... 301 Moved Permanently\n",
            "Location: https://downloads.cs.stanford.edu/nlp/data/glove.6B.zip [following]\n",
            "--2024-10-29 18:24:04--  https://downloads.cs.stanford.edu/nlp/data/glove.6B.zip\n",
            "Resolving downloads.cs.stanford.edu (downloads.cs.stanford.edu)... 171.64.64.22\n",
            "Connecting to downloads.cs.stanford.edu (downloads.cs.stanford.edu)|171.64.64.22|:443... connected.\n",
            "HTTP request sent, awaiting response... 200 OK\n",
            "Length: 862182613 (822M) [application/zip]\n",
            "Saving to: ‘glove.6B.zip’\n",
            "\n",
            "glove.6B.zip        100%[===================>] 822.24M  3.61MB/s    in 2m 55s  \n",
            "\n",
            "2024-10-29 18:26:59 (4.70 MB/s) - ‘glove.6B.zip’ saved [862182613/862182613]\n",
            "\n",
            "Archive:  glove.6B.zip\n",
            "  inflating: glove.6B.50d.txt        \n",
            "  inflating: glove.6B.100d.txt       \n",
            "  inflating: glove.6B.200d.txt       \n",
            "  inflating: glove.6B.300d.txt       \n"
          ]
        }
      ],
      "source": [
        "# Define stop words and lemmatizer\n",
        "stop_words = set(stopwords.words('english'))\n",
        "lemmatizer = WordNetLemmatizer()\n",
        "\n",
        "def preprocess_text(text):\n",
        "    text = text.lower()\n",
        "    text = re.sub(r'\\b(u\\.s\\.|us)\\b', 'usa', text, flags=re.IGNORECASE)\n",
        "    text = re.sub(r'<[^>]+>', '', text)\n",
        "    text = re.sub(r'&\\w+;', '', text)\n",
        "    text = re.sub(r'[^a-z\\s]', '', text)\n",
        "    words = text.split()\n",
        "    words = [word for word in words if word not in stop_words]\n",
        "    words = [lemmatizer.lemmatize(word) for word in words]\n",
        "    return ' '.join(words)\n",
        "\n",
        "# Combine 'Title' and 'Description' into 'clean_text' and preprocess\n",
        "train_df['clean_text'] = (train_df['Title'] + ' ' + train_df['Description']).apply(preprocess_text)\n",
        "test_df['clean_text'] = (test_df['Title'] + ' ' + test_df['Description']).apply(preprocess_text)\n",
        "\n",
        "# Tokenization\n",
        "tokenizer = Tokenizer(num_words=5000)\n",
        "tokenizer.fit_on_texts(train_df['clean_text'])\n",
        "\n",
        "# Convert text to sequences\n",
        "X_train_title_seq = tokenizer.texts_to_sequences(train_df['Title'])\n",
        "X_test_title_seq = tokenizer.texts_to_sequences(test_df['Title'])\n",
        "\n",
        "X_train_description_seq = tokenizer.texts_to_sequences(train_df['Description'])\n",
        "X_test_description_seq = tokenizer.texts_to_sequences(test_df['Description'])\n",
        "\n",
        "# Determine max sequence length and pad sequences\n",
        "max_length_titles = max([len(x) for x in X_train_title_seq])\n",
        "max_length_descriptions = max([len(x) for x in X_train_description_seq])\n",
        "\n",
        "X_train_title_pad = pad_sequences(X_train_title_seq, maxlen=max_length_titles)\n",
        "X_test_title_pad = pad_sequences(X_test_title_seq, maxlen=max_length_titles)\n",
        "\n",
        "X_train_description_pad = pad_sequences(X_train_description_seq, maxlen=max_length_descriptions)\n",
        "X_test_description_pad = pad_sequences(X_test_description_seq, maxlen=max_length_descriptions)\n",
        "\n",
        "y_train = train_df['Class Index'].values - 1\n",
        "y_test = test_df['Class Index'].values - 1\n",
        "\n",
        "# Download and load GloVe embeddings\n",
        "!wget http://nlp.stanford.edu/data/glove.6B.zip\n",
        "!unzip glove.6B.zip\n",
        "\n",
        "embedding_index = {}\n",
        "with open('glove.6B.100d.txt', encoding='utf-8') as f:\n",
        "    for line in f:\n",
        "        values = line.split()\n",
        "        word = values[0]\n",
        "        coefs = np.asarray(values[1:], dtype='float32')\n",
        "        embedding_index[word] = coefs\n",
        "\n",
        "embedding_matrix = np.zeros((5000, 100))\n",
        "for word, i in tokenizer.word_index.items():\n",
        "    if i < 5000:\n",
        "        embedding_vector = embedding_index.get(word)\n",
        "        if embedding_vector is not None:\n",
        "            embedding_matrix[i] = embedding_vector"
      ]
    },
    {
      "cell_type": "markdown",
      "id": "d2a547c2-a40b-4a6c-b2bb-93ecb9a2231a",
      "metadata": {
        "id": "d2a547c2-a40b-4a6c-b2bb-93ecb9a2231a"
      },
      "source": [
        "### Basic training module (Base Model)"
      ]
    },
    {
      "cell_type": "code",
      "execution_count": 4,
      "id": "dec35f0a-c007-4777-a645-e1792afb7a3e",
      "metadata": {
        "colab": {
          "base_uri": "https://localhost:8080/"
        },
        "id": "dec35f0a-c007-4777-a645-e1792afb7a3e",
        "outputId": "c0718c4c-e77e-4021-a3db-66266ab0b081"
      },
      "outputs": [
        {
          "output_type": "stream",
          "name": "stdout",
          "text": [
            "Epoch 1/5\n",
            "\u001b[1m3375/3375\u001b[0m \u001b[32m━━━━━━━━━━━━━━━━━━━━\u001b[0m\u001b[37m\u001b[0m \u001b[1m43s\u001b[0m 11ms/step - accuracy: 0.8644 - loss: 0.3956 - val_accuracy: 0.8928 - val_loss: 0.2915\n",
            "Epoch 2/5\n",
            "\u001b[1m3375/3375\u001b[0m \u001b[32m━━━━━━━━━━━━━━━━━━━━\u001b[0m\u001b[37m\u001b[0m \u001b[1m37s\u001b[0m 11ms/step - accuracy: 0.9047 - loss: 0.2769 - val_accuracy: 0.8985 - val_loss: 0.2757\n",
            "Epoch 3/5\n",
            "\u001b[1m3375/3375\u001b[0m \u001b[32m━━━━━━━━━━━━━━━━━━━━\u001b[0m\u001b[37m\u001b[0m \u001b[1m37s\u001b[0m 11ms/step - accuracy: 0.9200 - loss: 0.2260 - val_accuracy: 0.9008 - val_loss: 0.2784\n",
            "Epoch 4/5\n",
            "\u001b[1m3375/3375\u001b[0m \u001b[32m━━━━━━━━━━━━━━━━━━━━\u001b[0m\u001b[37m\u001b[0m \u001b[1m37s\u001b[0m 11ms/step - accuracy: 0.9338 - loss: 0.1868 - val_accuracy: 0.9018 - val_loss: 0.2865\n",
            "Epoch 5/5\n",
            "\u001b[1m3375/3375\u001b[0m \u001b[32m━━━━━━━━━━━━━━━━━━━━\u001b[0m\u001b[37m\u001b[0m \u001b[1m38s\u001b[0m 11ms/step - accuracy: 0.9467 - loss: 0.1512 - val_accuracy: 0.9003 - val_loss: 0.3242\n"
          ]
        },
        {
          "output_type": "execute_result",
          "data": {
            "text/plain": [
              "<keras.src.callbacks.history.History at 0x7f2ba07657e0>"
            ]
          },
          "metadata": {},
          "execution_count": 4
        }
      ],
      "source": [
        "# Define inputs and embedding layers\n",
        "title_input = Input(shape=(max_length_titles,), name='title_input')\n",
        "title_embedding = Embedding(input_dim=5000, output_dim=100, weights=[embedding_matrix], trainable=False)(title_input)\n",
        "title_gru = GRU(128, return_sequences=True)(title_embedding)\n",
        "title_lstm = LSTM(128, return_sequences=False)(title_gru)\n",
        "\n",
        "description_input = Input(shape=(max_length_descriptions,), name='description_input')\n",
        "description_embedding = Embedding(input_dim=5000, output_dim=100, weights=[embedding_matrix], trainable=False)(description_input)\n",
        "description_gru = GRU(128, return_sequences=True)(description_embedding)\n",
        "description_lstm = LSTM(128, return_sequences=False)(description_gru)\n",
        "\n",
        "merged = Concatenate()([title_lstm, description_lstm])\n",
        "\n",
        "# Fully connected layers after merging\n",
        "dense_1 = Dense(128, activation='relu')(merged)\n",
        "dense_2 = Dense(64, activation='relu')(dense_1)\n",
        "output = Dense(4, activation='softmax')(dense_2)\n",
        "\n",
        "# Build and compile model\n",
        "model = Model(inputs=[title_input, description_input], outputs=output)\n",
        "model.compile(optimizer='adam', loss='sparse_categorical_crossentropy', metrics=['accuracy'])\n",
        "\n",
        "# Early stopping callback\n",
        "early_stopping = EarlyStopping(monitor='val_loss', patience=3, restore_best_weights=True)\n",
        "\n",
        "# Training with early stopping\n",
        "model.fit([X_train_title_pad, X_train_description_pad], y_train,\n",
        "          validation_split=0.1, epochs=5, batch_size=32, verbose=1,\n",
        "          callbacks=[early_stopping])"
      ]
    },
    {
      "cell_type": "markdown",
      "id": "0c783e39-4b83-4176-b057-c77360fc72f3",
      "metadata": {
        "id": "0c783e39-4b83-4176-b057-c77360fc72f3"
      },
      "source": [
        "### Testing module 1 (Base Model)"
      ]
    },
    {
      "cell_type": "code",
      "execution_count": 5,
      "id": "20fb6ad9-0039-4c5e-a3bb-181214e587af",
      "metadata": {
        "colab": {
          "base_uri": "https://localhost:8080/",
          "height": 796
        },
        "id": "20fb6ad9-0039-4c5e-a3bb-181214e587af",
        "outputId": "2087df81-2932-4e2b-e390-46fe4b1bc153"
      },
      "outputs": [
        {
          "output_type": "stream",
          "name": "stdout",
          "text": [
            "\u001b[1m238/238\u001b[0m \u001b[32m━━━━━━━━━━━━━━━━━━━━\u001b[0m\u001b[37m\u001b[0m \u001b[1m2s\u001b[0m 6ms/step\n",
            "Base Model Accuracy: 0.9005263157894737\n",
            "              precision    recall  f1-score   support\n",
            "\n",
            "           0       0.94      0.87      0.91      1900\n",
            "           1       0.95      0.97      0.96      1900\n",
            "           2       0.84      0.88      0.86      1900\n",
            "           3       0.87      0.89      0.88      1900\n",
            "\n",
            "    accuracy                           0.90      7600\n",
            "   macro avg       0.90      0.90      0.90      7600\n",
            "weighted avg       0.90      0.90      0.90      7600\n",
            "\n"
          ]
        },
        {
          "output_type": "display_data",
          "data": {
            "text/plain": [
              "<Figure size 800x600 with 2 Axes>"
            ],
            "image/png": "[encoded data removed]"
          },
          "metadata": {}
        }
      ],
      "source": [
        "# Predictions and metrics for base model\n",
        "y_pred_base = model.predict([X_test_title_pad, X_test_description_pad]).argmax(axis=1)\n",
        "print(\"Base Model Accuracy:\", np.mean(y_pred_base == y_test))\n",
        "print(classification_report(y_test, y_pred_base))\n",
        "conf_matrix_base = confusion_matrix(y_test, y_pred_base)\n",
        "\n",
        "# Display confusion matrix for base model\n",
        "plt.figure(figsize=(8, 6))\n",
        "sns.heatmap(conf_matrix_base, annot=True, fmt='d', cmap='Blues', xticklabels=[0, 1, 2, 3], yticklabels=[0, 1, 2, 3])\n",
        "plt.xlabel('Predicted')\n",
        "plt.ylabel('True')\n",
        "plt.title('Confusion Matrix for Base Model')\n",
        "plt.show()"
      ]
    },
    {
      "cell_type": "markdown",
      "id": "06c52bd2-74a2-4bc7-aac0-a506a05ae243",
      "metadata": {
        "id": "06c52bd2-74a2-4bc7-aac0-a506a05ae243"
      },
      "source": [
        "### Hyperparameter selection module"
      ]
    },
    {
      "cell_type": "code",
      "execution_count": 6,
      "id": "baa9d87e-bf9c-4a83-a676-5db462fadf24",
      "metadata": {
        "colab": {
          "base_uri": "https://localhost:8080/"
        },
        "id": "baa9d87e-bf9c-4a83-a676-5db462fadf24",
        "outputId": "67f036d8-a830-47e2-deaf-4975b096a3bf"
      },
      "outputs": [
        {
          "output_type": "stream",
          "name": "stderr",
          "text": [
            "[I 2024-10-29 18:30:48,641] A new study created in memory with name: no-name-61376aa0-06d4-4b66-baaa-b562a736f4f5\n"
          ]
        },
        {
          "output_type": "stream",
          "name": "stdout",
          "text": [
            "Epoch 1/3\n",
            "\u001b[1m3375/3375\u001b[0m \u001b[32m━━━━━━━━━━━━━━━━━━━━\u001b[0m\u001b[37m\u001b[0m \u001b[1m42s\u001b[0m 11ms/step - accuracy: 0.8380 - loss: 0.4788 - val_accuracy: 0.8824 - val_loss: 0.3226\n",
            "Epoch 2/3\n",
            "\u001b[1m3375/3375\u001b[0m \u001b[32m━━━━━━━━━━━━━━━━━━━━\u001b[0m\u001b[37m\u001b[0m \u001b[1m38s\u001b[0m 11ms/step - accuracy: 0.8871 - loss: 0.3226 - val_accuracy: 0.8947 - val_loss: 0.2920\n",
            "Epoch 3/3\n",
            "\u001b[1m3375/3375\u001b[0m \u001b[32m━━━━━━━━━━━━━━━━━━━━\u001b[0m\u001b[37m\u001b[0m \u001b[1m38s\u001b[0m 11ms/step - accuracy: 0.8978 - loss: 0.2927 - val_accuracy: 0.8901 - val_loss: 0.3014\n",
            "\u001b[1m238/238\u001b[0m \u001b[32m━━━━━━━━━━━━━━━━━━━━\u001b[0m\u001b[37m\u001b[0m \u001b[1m2s\u001b[0m 5ms/step - accuracy: 0.8957 - loss: 0.2993\n"
          ]
        },
        {
          "output_type": "stream",
          "name": "stderr",
          "text": [
            "[I 2024-10-29 18:32:49,295] Trial 0 finished with value: 0.8957894444465637 and parameters: {'dropout_rate': 0.2717561728348018, 'learning_rate': 0.00010283663516627123, 'gru_units': 192, 'lstm_units': 145}. Best is trial 0 with value: 0.8957894444465637.\n"
          ]
        },
        {
          "output_type": "stream",
          "name": "stdout",
          "text": [
            "Epoch 1/3\n",
            "\u001b[1m3375/3375\u001b[0m \u001b[32m━━━━━━━━━━━━━━━━━━━━\u001b[0m\u001b[37m\u001b[0m \u001b[1m42s\u001b[0m 12ms/step - accuracy: 0.8446 - loss: 0.4562 - val_accuracy: 0.8865 - val_loss: 0.3170\n",
            "Epoch 2/3\n",
            "\u001b[1m3375/3375\u001b[0m \u001b[32m━━━━━━━━━━━━━━━━━━━━\u001b[0m\u001b[37m\u001b[0m \u001b[1m39s\u001b[0m 11ms/step - accuracy: 0.8894 - loss: 0.3153 - val_accuracy: 0.8924 - val_loss: 0.2929\n",
            "Epoch 3/3\n",
            "\u001b[1m3375/3375\u001b[0m \u001b[32m━━━━━━━━━━━━━━━━━━━━\u001b[0m\u001b[37m\u001b[0m \u001b[1m39s\u001b[0m 11ms/step - accuracy: 0.9000 - loss: 0.2826 - val_accuracy: 0.8931 - val_loss: 0.2905\n",
            "\u001b[1m238/238\u001b[0m \u001b[32m━━━━━━━━━━━━━━━━━━━━\u001b[0m\u001b[37m\u001b[0m \u001b[1m2s\u001b[0m 5ms/step - accuracy: 0.8972 - loss: 0.3019\n"
          ]
        },
        {
          "output_type": "stream",
          "name": "stderr",
          "text": [
            "[I 2024-10-29 18:34:50,657] Trial 1 finished with value: 0.8942105174064636 and parameters: {'dropout_rate': 0.17771956480489687, 'learning_rate': 0.00013112219732209137, 'gru_units': 119, 'lstm_units': 182}. Best is trial 0 with value: 0.8957894444465637.\n"
          ]
        },
        {
          "output_type": "stream",
          "name": "stdout",
          "text": [
            "Epoch 1/3\n",
            "\u001b[1m3375/3375\u001b[0m \u001b[32m━━━━━━━━━━━━━━━━━━━━\u001b[0m\u001b[37m\u001b[0m \u001b[1m44s\u001b[0m 12ms/step - accuracy: 0.8634 - loss: 0.4017 - val_accuracy: 0.8921 - val_loss: 0.3055\n",
            "Epoch 2/3\n",
            "\u001b[1m3375/3375\u001b[0m \u001b[32m━━━━━━━━━━━━━━━━━━━━\u001b[0m\u001b[37m\u001b[0m \u001b[1m40s\u001b[0m 12ms/step - accuracy: 0.9063 - loss: 0.2739 - val_accuracy: 0.9002 - val_loss: 0.2802\n",
            "Epoch 3/3\n",
            "\u001b[1m3375/3375\u001b[0m \u001b[32m━━━━━━━━━━━━━━━━━━━━\u001b[0m\u001b[37m\u001b[0m \u001b[1m41s\u001b[0m 12ms/step - accuracy: 0.9235 - loss: 0.2207 - val_accuracy: 0.8977 - val_loss: 0.2993\n",
            "\u001b[1m238/238\u001b[0m \u001b[32m━━━━━━━━━━━━━━━━━━━━\u001b[0m\u001b[37m\u001b[0m \u001b[1m2s\u001b[0m 5ms/step - accuracy: 0.9104 - loss: 0.2747\n"
          ]
        },
        {
          "output_type": "stream",
          "name": "stderr",
          "text": [
            "[I 2024-10-29 18:36:57,382] Trial 2 finished with value: 0.9088158011436462 and parameters: {'dropout_rate': 0.3551615423443169, 'learning_rate': 0.001866599741538427, 'gru_units': 195, 'lstm_units': 209}. Best is trial 2 with value: 0.9088158011436462.\n"
          ]
        },
        {
          "output_type": "stream",
          "name": "stdout",
          "text": [
            "Epoch 1/3\n",
            "\u001b[1m3375/3375\u001b[0m \u001b[32m━━━━━━━━━━━━━━━━━━━━\u001b[0m\u001b[37m\u001b[0m \u001b[1m41s\u001b[0m 11ms/step - accuracy: 0.7266 - loss: 0.8007 - val_accuracy: 0.8633 - val_loss: 0.3877\n",
            "Epoch 2/3\n",
            "\u001b[1m3375/3375\u001b[0m \u001b[32m━━━━━━━━━━━━━━━━━━━━\u001b[0m\u001b[37m\u001b[0m \u001b[1m37s\u001b[0m 11ms/step - accuracy: 0.8678 - loss: 0.3926 - val_accuracy: 0.8750 - val_loss: 0.3552\n",
            "Epoch 3/3\n",
            "\u001b[1m3375/3375\u001b[0m \u001b[32m━━━━━━━━━━━━━━━━━━━━\u001b[0m\u001b[37m\u001b[0m \u001b[1m38s\u001b[0m 11ms/step - accuracy: 0.8723 - loss: 0.3738 - val_accuracy: 0.8756 - val_loss: 0.3474\n",
            "\u001b[1m238/238\u001b[0m \u001b[32m━━━━━━━━━━━━━━━━━━━━\u001b[0m\u001b[37m\u001b[0m \u001b[1m2s\u001b[0m 5ms/step - accuracy: 0.8737 - loss: 0.3755\n"
          ]
        },
        {
          "output_type": "stream",
          "name": "stderr",
          "text": [
            "[I 2024-10-29 18:38:55,095] Trial 3 finished with value: 0.8759210705757141 and parameters: {'dropout_rate': 0.32935358965629485, 'learning_rate': 1.4147790108419653e-05, 'gru_units': 119, 'lstm_units': 154}. Best is trial 2 with value: 0.9088158011436462.\n"
          ]
        },
        {
          "output_type": "stream",
          "name": "stdout",
          "text": [
            "Epoch 1/3\n",
            "\u001b[1m3375/3375\u001b[0m \u001b[32m━━━━━━━━━━━━━━━━━━━━\u001b[0m\u001b[37m\u001b[0m \u001b[1m43s\u001b[0m 12ms/step - accuracy: 0.7394 - loss: 0.7646 - val_accuracy: 0.8711 - val_loss: 0.3645\n",
            "Epoch 2/3\n",
            "\u001b[1m3375/3375\u001b[0m \u001b[32m━━━━━━━━━━━━━━━━━━━━\u001b[0m\u001b[37m\u001b[0m \u001b[1m40s\u001b[0m 12ms/step - accuracy: 0.8700 - loss: 0.3892 - val_accuracy: 0.8751 - val_loss: 0.3476\n",
            "Epoch 3/3\n",
            "\u001b[1m3375/3375\u001b[0m \u001b[32m━━━━━━━━━━━━━━━━━━━━\u001b[0m\u001b[37m\u001b[0m \u001b[1m40s\u001b[0m 12ms/step - accuracy: 0.8778 - loss: 0.3600 - val_accuracy: 0.8797 - val_loss: 0.3319\n",
            "\u001b[1m238/238\u001b[0m \u001b[32m━━━━━━━━━━━━━━━━━━━━\u001b[0m\u001b[37m\u001b[0m \u001b[1m2s\u001b[0m 5ms/step - accuracy: 0.8725 - loss: 0.3641\n"
          ]
        },
        {
          "output_type": "stream",
          "name": "stderr",
          "text": [
            "[I 2024-10-29 18:40:59,784] Trial 4 finished with value: 0.8774999976158142 and parameters: {'dropout_rate': 0.3949013311387536, 'learning_rate': 1.4326156888575175e-05, 'gru_units': 239, 'lstm_units': 118}. Best is trial 2 with value: 0.9088158011436462.\n"
          ]
        },
        {
          "output_type": "stream",
          "name": "stdout",
          "text": [
            "Best trial: FrozenTrial(number=2, state=TrialState.COMPLETE, values=[0.9088158011436462], datetime_start=datetime.datetime(2024, 10, 29, 18, 34, 50, 659512), datetime_complete=datetime.datetime(2024, 10, 29, 18, 36, 57, 382304), params={'dropout_rate': 0.3551615423443169, 'learning_rate': 0.001866599741538427, 'gru_units': 195, 'lstm_units': 209}, user_attrs={}, system_attrs={}, intermediate_values={}, distributions={'dropout_rate': FloatDistribution(high=0.5, log=False, low=0.0, step=None), 'learning_rate': FloatDistribution(high=0.01, log=True, low=1e-05, step=None), 'gru_units': IntDistribution(high=256, log=False, low=64, step=1), 'lstm_units': IntDistribution(high=256, log=False, low=64, step=1)}, trial_id=2, value=None)\n"
          ]
        }
      ],
      "source": [
        "def model_builder(trial):\n",
        "    dropout_rate = trial.suggest_float('dropout_rate', 0.0, 0.5)\n",
        "    learning_rate = trial.suggest_float('learning_rate', 1e-5, 1e-2, log=True)\n",
        "    gru_units = trial.suggest_int('gru_units', 64, 256)\n",
        "    lstm_units = trial.suggest_int('lstm_units', 64, 256)\n",
        "\n",
        "    title_input = Input(shape=(max_length_titles,), name='title_input')\n",
        "    title_embedding = Embedding(input_dim=5000, output_dim=100,\n",
        "                                weights=[embedding_matrix], trainable=False)(title_input)\n",
        "    title_gru = GRU(gru_units, return_sequences=True)(title_embedding)\n",
        "    title_lstm = LSTM(lstm_units, return_sequences=False)(title_gru)\n",
        "\n",
        "    description_input = Input(shape=(max_length_descriptions,), name='description_input')\n",
        "    description_embedding = Embedding(input_dim=5000, output_dim=100,\n",
        "                                      weights=[embedding_matrix], trainable=False)(description_input)\n",
        "    description_gru = GRU(gru_units, return_sequences=True)(description_embedding)\n",
        "    description_lstm = LSTM(lstm_units, return_sequences=False)(description_gru)\n",
        "\n",
        "    merged = Concatenate()([title_lstm, description_lstm])\n",
        "    dense_1 = Dense(128, activation='relu')(merged)\n",
        "    dropout_1 = Dropout(dropout_rate)(dense_1)\n",
        "    output = Dense(4, activation='softmax')(dropout_1)\n",
        "\n",
        "    model = Model(inputs=[title_input, description_input], outputs=output)\n",
        "    optimizer = Adam(learning_rate=learning_rate)\n",
        "    model.compile(optimizer=optimizer, loss='sparse_categorical_crossentropy', metrics=['accuracy'])\n",
        "\n",
        "    return model\n",
        "\n",
        "# Optuna objective function\n",
        "def objective(trial):\n",
        "    model = model_builder(trial)\n",
        "    model.fit([X_train_title_pad, X_train_description_pad], y_train,\n",
        "              validation_split=0.1, epochs=3, batch_size=32, verbose=1)\n",
        "    loss, accuracy = model.evaluate([X_test_title_pad, X_test_description_pad], y_test, verbose=1)\n",
        "    return accuracy\n",
        "\n",
        "# Run Optuna\n",
        "study = optuna.create_study(direction='maximize')\n",
        "study.optimize(objective, n_trials=5)\n",
        "print(\"Best trial:\", study.best_trial)"
      ]
    },
    {
      "cell_type": "markdown",
      "id": "4fed39de-0622-4d22-bcb8-7b04a0994845",
      "metadata": {
        "id": "4fed39de-0622-4d22-bcb8-7b04a0994845"
      },
      "source": [
        "### Testing module 2 (Optimized Model)"
      ]
    },
    {
      "cell_type": "code",
      "execution_count": 7,
      "id": "3303543d-d0a9-4b49-a9cd-46738d984fb3",
      "metadata": {
        "colab": {
          "base_uri": "https://localhost:8080/",
          "height": 975
        },
        "id": "3303543d-d0a9-4b49-a9cd-46738d984fb3",
        "outputId": "ba530376-6152-4202-d7eb-257e63d3a511"
      },
      "outputs": [
        {
          "output_type": "stream",
          "name": "stdout",
          "text": [
            "Epoch 1/5\n",
            "\u001b[1m3375/3375\u001b[0m \u001b[32m━━━━━━━━━━━━━━━━━━━━\u001b[0m\u001b[37m\u001b[0m \u001b[1m44s\u001b[0m 12ms/step - accuracy: 0.8626 - loss: 0.4042 - val_accuracy: 0.8923 - val_loss: 0.3061\n",
            "Epoch 2/5\n",
            "\u001b[1m3375/3375\u001b[0m \u001b[32m━━━━━━━━━━━━━━━━━━━━\u001b[0m\u001b[37m\u001b[0m \u001b[1m40s\u001b[0m 12ms/step - accuracy: 0.9068 - loss: 0.2731 - val_accuracy: 0.9014 - val_loss: 0.2746\n",
            "Epoch 3/5\n",
            "\u001b[1m3375/3375\u001b[0m \u001b[32m━━━━━━━━━━━━━━━━━━━━\u001b[0m\u001b[37m\u001b[0m \u001b[1m41s\u001b[0m 12ms/step - accuracy: 0.9237 - loss: 0.2225 - val_accuracy: 0.9002 - val_loss: 0.2741\n",
            "Epoch 4/5\n",
            "\u001b[1m3375/3375\u001b[0m \u001b[32m━━━━━━━━━━━━━━━━━━━━\u001b[0m\u001b[37m\u001b[0m \u001b[1m40s\u001b[0m 12ms/step - accuracy: 0.9370 - loss: 0.1779 - val_accuracy: 0.9057 - val_loss: 0.2924\n",
            "Epoch 5/5\n",
            "\u001b[1m3375/3375\u001b[0m \u001b[32m━━━━━━━━━━━━━━━━━━━━\u001b[0m\u001b[37m\u001b[0m \u001b[1m40s\u001b[0m 12ms/step - accuracy: 0.9483 - loss: 0.1441 - val_accuracy: 0.9003 - val_loss: 0.3239\n",
            "\u001b[1m238/238\u001b[0m \u001b[32m━━━━━━━━━━━━━━━━━━━━\u001b[0m\u001b[37m\u001b[0m \u001b[1m2s\u001b[0m 6ms/step\n",
            "Optimized Model Accuracy: 0.9077631578947368\n",
            "              precision    recall  f1-score   support\n",
            "\n",
            "           0       0.93      0.90      0.91      1900\n",
            "           1       0.94      0.98      0.96      1900\n",
            "           2       0.89      0.85      0.87      1900\n",
            "           3       0.87      0.90      0.88      1900\n",
            "\n",
            "    accuracy                           0.91      7600\n",
            "   macro avg       0.91      0.91      0.91      7600\n",
            "weighted avg       0.91      0.91      0.91      7600\n",
            "\n"
          ]
        },
        {
          "output_type": "display_data",
          "data": {
            "text/plain": [
              "<Figure size 800x600 with 2 Axes>"
            ],
            "image/png": "[encoded data removed]"
          },
          "metadata": {}
        }
      ],
      "source": [
        "# Build optimized model with best parameters\n",
        "best_trial = study.best_trial\n",
        "model_optimized = model_builder(best_trial)\n",
        "\n",
        "# Training and testing optimized model\n",
        "model_optimized.fit([X_train_title_pad, X_train_description_pad], y_train,\n",
        "                    validation_split=0.1, epochs=5, batch_size=32, verbose=1)\n",
        "y_pred_optimized = model_optimized.predict([X_test_title_pad, X_test_description_pad]).argmax(axis=1)\n",
        "\n",
        "# Optimized model metrics\n",
        "print(\"Optimized Model Accuracy:\", np.mean(y_pred_optimized == y_test))\n",
        "print(classification_report(y_test, y_pred_optimized))\n",
        "conf_matrix_optimized = confusion_matrix(y_test, y_pred_optimized)\n",
        "\n",
        "# Display confusion matrix for optimized model\n",
        "plt.figure(figsize=(8, 6))\n",
        "sns.heatmap(conf_matrix_optimized, annot=True, fmt='d', cmap='Blues', xticklabels=[0, 1, 2, 3], yticklabels=[0, 1, 2, 3])\n",
        "plt.xlabel('Predicted')\n",
        "plt.ylabel('True')\n",
        "plt.title('Confusion Matrix for Optimized Model')\n",
        "plt.show()"
      ]
    }
  ],
  "metadata": {
    "accelerator": "GPU",
    "colab": {
      "gpuType": "A100",
      "machine_shape": "hm",
      "provenance": []
    },
    "kernelspec": {
      "display_name": "Python 3 (ipykernel)",
      "language": "python",
      "name": "python3"
    },
    "language_info": {
      "codemirror_mode": {
        "name": "ipython",
        "version": 3
      },
      "file_extension": ".py",
      "mimetype": "text/x-python",
      "name": "python",
      "nbconvert_exporter": "python",
      "pygments_lexer": "ipython3",
      "version": "3.12.4"
    }
  },
  "nbformat": 4,
  "nbformat_minor": 5
}