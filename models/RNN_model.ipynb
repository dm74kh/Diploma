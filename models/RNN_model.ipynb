{
  "cells": [
    {
      "cell_type": "markdown",
      "id": "de8db171-dd8b-49a4-8ca7-4275ecb1cd58",
      "metadata": {
        "id": "de8db171-dd8b-49a4-8ca7-4275ecb1cd58"
      },
      "source": [
        "## RNN"
      ]
    },
    {
      "cell_type": "markdown",
      "id": "a8163f6b-47b8-47b7-b9a2-7bbeca1d6fdd",
      "metadata": {
        "id": "a8163f6b-47b8-47b7-b9a2-7bbeca1d6fdd"
      },
      "source": [
        "### Import libraries"
      ]
    },
    {
      "cell_type": "code",
      "execution_count": 1,
      "id": "9955a1a5",
      "metadata": {
        "colab": {
          "base_uri": "https://localhost:8080/"
        },
        "id": "9955a1a5",
        "outputId": "e081ae23-6e1c-47ae-de6b-25ec1e13d66f"
      },
      "outputs": [
        {
          "output_type": "stream",
          "name": "stdout",
          "text": [
            "Collecting optuna\n",
            "  Downloading optuna-4.0.0-py3-none-any.whl.metadata (16 kB)\n",
            "Collecting alembic>=1.5.0 (from optuna)\n",
            "  Downloading alembic-1.13.3-py3-none-any.whl.metadata (7.4 kB)\n",
            "Collecting colorlog (from optuna)\n",
            "  Downloading colorlog-6.9.0-py3-none-any.whl.metadata (10 kB)\n",
            "Requirement already satisfied: numpy in /usr/local/lib/python3.10/dist-packages (from optuna) (1.26.4)\n",
            "Requirement already satisfied: packaging>=20.0 in /usr/local/lib/python3.10/dist-packages (from optuna) (24.1)\n",
            "Requirement already satisfied: sqlalchemy>=1.3.0 in /usr/local/lib/python3.10/dist-packages (from optuna) (2.0.36)\n",
            "Requirement already satisfied: tqdm in /usr/local/lib/python3.10/dist-packages (from optuna) (4.66.5)\n",
            "Requirement already satisfied: PyYAML in /usr/local/lib/python3.10/dist-packages (from optuna) (6.0.2)\n",
            "Collecting Mako (from alembic>=1.5.0->optuna)\n",
            "  Downloading Mako-1.3.6-py3-none-any.whl.metadata (2.9 kB)\n",
            "Requirement already satisfied: typing-extensions>=4 in /usr/local/lib/python3.10/dist-packages (from alembic>=1.5.0->optuna) (4.12.2)\n",
            "Requirement already satisfied: greenlet!=0.4.17 in /usr/local/lib/python3.10/dist-packages (from sqlalchemy>=1.3.0->optuna) (3.1.1)\n",
            "Requirement already satisfied: MarkupSafe>=0.9.2 in /usr/local/lib/python3.10/dist-packages (from Mako->alembic>=1.5.0->optuna) (3.0.2)\n",
            "Downloading optuna-4.0.0-py3-none-any.whl (362 kB)\n",
            "\u001b[2K   \u001b[90m━━━━━━━━━━━━━━━━━━━━━━━━━━━━━━━━━━━━━━━━\u001b[0m \u001b[32m362.8/362.8 kB\u001b[0m \u001b[31m11.6 MB/s\u001b[0m eta \u001b[36m0:00:00\u001b[0m\n",
            "\u001b[?25hDownloading alembic-1.13.3-py3-none-any.whl (233 kB)\n",
            "\u001b[2K   \u001b[90m━━━━━━━━━━━━━━━━━━━━━━━━━━━━━━━━━━━━━━━━\u001b[0m \u001b[32m233.2/233.2 kB\u001b[0m \u001b[31m17.8 MB/s\u001b[0m eta \u001b[36m0:00:00\u001b[0m\n",
            "\u001b[?25hDownloading colorlog-6.9.0-py3-none-any.whl (11 kB)\n",
            "Downloading Mako-1.3.6-py3-none-any.whl (78 kB)\n",
            "\u001b[2K   \u001b[90m━━━━━━━━━━━━━━━━━━━━━━━━━━━━━━━━━━━━━━━━\u001b[0m \u001b[32m78.6/78.6 kB\u001b[0m \u001b[31m7.0 MB/s\u001b[0m eta \u001b[36m0:00:00\u001b[0m\n",
            "\u001b[?25hInstalling collected packages: Mako, colorlog, alembic, optuna\n",
            "Successfully installed Mako-1.3.6 alembic-1.13.3 colorlog-6.9.0 optuna-4.0.0\n"
          ]
        },
        {
          "output_type": "stream",
          "name": "stderr",
          "text": [
            "[nltk_data] Downloading package stopwords to /root/nltk_data...\n",
            "[nltk_data]   Unzipping corpora/stopwords.zip.\n",
            "[nltk_data] Downloading package wordnet to /root/nltk_data...\n"
          ]
        },
        {
          "output_type": "execute_result",
          "data": {
            "text/plain": [
              "True"
            ]
          },
          "metadata": {},
          "execution_count": 1
        }
      ],
      "source": [
        "!pip install optuna\n",
        "\n",
        "import pandas as pd\n",
        "import numpy as np\n",
        "import re\n",
        "from tensorflow.keras.preprocessing.text import Tokenizer\n",
        "from tensorflow.keras.preprocessing.sequence import pad_sequences\n",
        "from nltk.corpus import stopwords\n",
        "from nltk.stem import WordNetLemmatizer\n",
        "from tensorflow.keras.layers import Input, Embedding, Dense, Flatten, Concatenate, Dropout, LSTM\n",
        "from tensorflow.keras.models import Model\n",
        "import optuna\n",
        "from tensorflow.keras.optimizers import Adam\n",
        "from sklearn.metrics import classification_report, confusion_matrix\n",
        "import seaborn as sns\n",
        "import matplotlib.pyplot as plt\n",
        "from tensorflow.keras.callbacks import EarlyStopping\n",
        "\n",
        "import nltk\n",
        "nltk.download('stopwords')\n",
        "nltk.download('wordnet')"
      ]
    },
    {
      "cell_type": "markdown",
      "id": "8d3ae439",
      "metadata": {
        "id": "8d3ae439"
      },
      "source": [
        "### Preprocessing module"
      ]
    },
    {
      "cell_type": "code",
      "execution_count": 2,
      "id": "3cfd9176-eff5-451c-94e0-2345ef772618",
      "metadata": {
        "id": "3cfd9176-eff5-451c-94e0-2345ef772618"
      },
      "outputs": [],
      "source": [
        "# Load the data\n",
        "train_url = 'https://raw.githubusercontent.com/mhjabreel/CharCnn_Keras/master/data/ag_news_csv/train.csv'\n",
        "test_url = 'https://raw.githubusercontent.com/mhjabreel/CharCnn_Keras/master/data/ag_news_csv/test.csv'\n",
        "\n",
        "train_df = pd.read_csv(train_url, header=None)\n",
        "test_df = pd.read_csv(test_url, header=None)\n",
        "train_df.columns = ['Class Index', 'Title', 'Description']\n",
        "test_df.columns = ['Class Index', 'Title', 'Description']"
      ]
    },
    {
      "cell_type": "code",
      "execution_count": 3,
      "id": "e838ad32-368b-4ed1-9a2b-f5138df4fee3",
      "metadata": {
        "colab": {
          "base_uri": "https://localhost:8080/"
        },
        "id": "e838ad32-368b-4ed1-9a2b-f5138df4fee3",
        "outputId": "2922875a-6df9-4de1-f058-f853056b1e32"
      },
      "outputs": [
        {
          "output_type": "stream",
          "name": "stdout",
          "text": [
            "Mounted at /content/drive\n"
          ]
        }
      ],
      "source": [
        "stop_words = set(stopwords.words('english'))\n",
        "lemmatizer = WordNetLemmatizer()\n",
        "\n",
        "def preprocess_text(text):\n",
        "    text = text.lower() # convert text to lowercase\n",
        "    text = re.sub(r'\\b(u\\.s\\.|us)\\b', 'usa', text, flags=re.IGNORECASE)  # replace \"U.S.\" or \"US\" with \"usa\"\n",
        "    text = re.sub(r'<[^>]+>', '', text)  # remove HTML tags\n",
        "    text = re.sub(r'&\\w+;', '', text)  # remove HTML entities\n",
        "    text = re.sub(r'[^a-z\\s]', '', text)  # remove numbers and punctuation (keep only letters and spaces)\n",
        "    words = text.split()\n",
        "    words = [word for word in words if word not in stop_words] # remove stop-words, tokenization\n",
        "    words = [lemmatizer.lemmatize(word) for word in words] # lemmatization\n",
        "    return ' '.join(words) # combining words into a string\n",
        "\n",
        "# Apply preprocessing\n",
        "train_df['clean_text'] = (train_df['Title'] + ' ' + train_df['Description']).apply(preprocess_text)\n",
        "test_df['clean_text'] = (test_df['Title'] + ' ' + test_df['Description']).apply(preprocess_text)\n",
        "\n",
        "# Tokenization and padding\n",
        "tokenizer = Tokenizer(num_words=5000)\n",
        "tokenizer.fit_on_texts(train_df['clean_text'])\n",
        "max_length_titles = max([len(x.split()) for x in train_df['Title']])\n",
        "max_length_descriptions = max([len(x.split()) for x in train_df['Description']])\n",
        "\n",
        "X_train_title_pad = pad_sequences(tokenizer.texts_to_sequences(train_df['Title']), maxlen=max_length_titles)\n",
        "X_test_title_pad = pad_sequences(tokenizer.texts_to_sequences(test_df['Title']), maxlen=max_length_titles)\n",
        "X_train_description_pad = pad_sequences(tokenizer.texts_to_sequences(train_df['Description']), maxlen=max_length_descriptions)\n",
        "X_test_description_pad = pad_sequences(tokenizer.texts_to_sequences(test_df['Description']), maxlen=max_length_descriptions)\n",
        "\n",
        "y_train = train_df['Class Index'].values - 1\n",
        "y_test = test_df['Class Index'].values - 1\n",
        "\n",
        "# Download and load GloVe embeddings\n",
        "# !wget http://nlp.stanford.edu/data/glove.6B.zip\n",
        "# !unzip glove.6B.zip\n",
        "\n",
        "from google.colab import drive\n",
        "drive.mount('/content/drive')\n",
        "\n",
        "# Load GloVe embeddings\n",
        "embedding_index = {}\n",
        "with open('/content/drive/MyDrive/glove.6B.100d.txt', encoding='utf-8') as f:\n",
        "    for line in f:\n",
        "        values = line.split()\n",
        "        word = values[0]\n",
        "        coefs = np.asarray(values[1:], dtype='float32')\n",
        "        embedding_index[word] = coefs\n",
        "\n",
        "embedding_matrix = np.zeros((5000, 100))\n",
        "for word, i in tokenizer.word_index.items():\n",
        "    if i < 5000:\n",
        "        embedding_vector = embedding_index.get(word)\n",
        "        if embedding_vector is not None:\n",
        "            embedding_matrix[i] = embedding_vector\n",
        "\n",
        "embedding_layer = Embedding(input_dim=5000, output_dim=100, weights=[embedding_matrix], trainable=False)"
      ]
    },
    {
      "cell_type": "markdown",
      "id": "74979b6e",
      "metadata": {
        "id": "74979b6e"
      },
      "source": [
        "### Basic training module"
      ]
    },
    {
      "cell_type": "code",
      "execution_count": 4,
      "id": "55ecc3bd",
      "metadata": {
        "colab": {
          "base_uri": "https://localhost:8080/"
        },
        "id": "55ecc3bd",
        "outputId": "e16503ab-c861-4bbd-bb98-b037b8850ebe"
      },
      "outputs": [
        {
          "output_type": "stream",
          "name": "stdout",
          "text": [
            "Epoch 1/5\n",
            "\u001b[1m3375/3375\u001b[0m \u001b[32m━━━━━━━━━━━━━━━━━━━━\u001b[0m\u001b[37m\u001b[0m \u001b[1m39s\u001b[0m 10ms/step - accuracy: 0.7937 - loss: 0.6389 - val_accuracy: 0.8759 - val_loss: 0.3438\n",
            "Epoch 2/5\n",
            "\u001b[1m3375/3375\u001b[0m \u001b[32m━━━━━━━━━━━━━━━━━━━━\u001b[0m\u001b[37m\u001b[0m \u001b[1m35s\u001b[0m 10ms/step - accuracy: 0.8800 - loss: 0.3465 - val_accuracy: 0.8823 - val_loss: 0.3257\n",
            "Epoch 3/5\n",
            "\u001b[1m3375/3375\u001b[0m \u001b[32m━━━━━━━━━━━━━━━━━━━━\u001b[0m\u001b[37m\u001b[0m \u001b[1m35s\u001b[0m 10ms/step - accuracy: 0.8858 - loss: 0.3265 - val_accuracy: 0.8835 - val_loss: 0.3183\n",
            "Epoch 4/5\n",
            "\u001b[1m3375/3375\u001b[0m \u001b[32m━━━━━━━━━━━━━━━━━━━━\u001b[0m\u001b[37m\u001b[0m \u001b[1m35s\u001b[0m 10ms/step - accuracy: 0.8885 - loss: 0.3149 - val_accuracy: 0.8876 - val_loss: 0.3076\n",
            "Epoch 5/5\n",
            "\u001b[1m3375/3375\u001b[0m \u001b[32m━━━━━━━━━━━━━━━━━━━━\u001b[0m\u001b[37m\u001b[0m \u001b[1m35s\u001b[0m 10ms/step - accuracy: 0.8925 - loss: 0.3064 - val_accuracy: 0.8890 - val_loss: 0.3042\n"
          ]
        },
        {
          "output_type": "execute_result",
          "data": {
            "text/plain": [
              "<keras.src.callbacks.history.History at 0x7db1931bf670>"
            ]
          },
          "metadata": {},
          "execution_count": 4
        }
      ],
      "source": [
        "# Define the baseline model with LSTM layers\n",
        "title_input = Input(shape=(max_length_titles,), name='title_input')\n",
        "title_embedding = embedding_layer(title_input)\n",
        "title_lstm = LSTM(128, return_sequences=False)(title_embedding)\n",
        "\n",
        "description_input = Input(shape=(max_length_descriptions,), name='description_input')\n",
        "description_embedding = embedding_layer(description_input)\n",
        "description_lstm = LSTM(128, return_sequences=False)(description_embedding)\n",
        "\n",
        "merged = Concatenate()([title_lstm, description_lstm])\n",
        "dense_1 = Dense(128, activation='relu')(merged)\n",
        "dense_2 = Dense(64, activation='relu')(dense_1)\n",
        "output = Dense(4, activation='softmax')(dense_2)\n",
        "\n",
        "model = Model(inputs=[title_input, description_input], outputs=output)\n",
        "model.compile(optimizer=Adam(learning_rate=3e-5), loss='sparse_categorical_crossentropy', metrics=['accuracy'])\n",
        "early_stopping = EarlyStopping(monitor='val_loss', patience=3, restore_best_weights=True)\n",
        "\n",
        "# Train the baseline model\n",
        "model.fit([X_train_title_pad, X_train_description_pad], y_train, validation_split=0.1,\n",
        "          epochs=5, batch_size=32, callbacks=[early_stopping], verbose=1)"
      ]
    },
    {
      "cell_type": "markdown",
      "id": "2dd7938a-c9a9-4c55-a570-a72613fe3ca2",
      "metadata": {
        "id": "2dd7938a-c9a9-4c55-a570-a72613fe3ca2"
      },
      "source": [
        "### Testing Module 1 (Base Model)"
      ]
    },
    {
      "cell_type": "code",
      "execution_count": 5,
      "id": "d229b1b2-40af-4099-92e1-6bbdd94e356a",
      "metadata": {
        "colab": {
          "base_uri": "https://localhost:8080/",
          "height": 814
        },
        "id": "d229b1b2-40af-4099-92e1-6bbdd94e356a",
        "outputId": "fab0bc2a-4d7e-4cac-b491-99e0b57ea68f"
      },
      "outputs": [
        {
          "output_type": "stream",
          "name": "stdout",
          "text": [
            "\u001b[1m238/238\u001b[0m \u001b[32m━━━━━━━━━━━━━━━━━━━━\u001b[0m\u001b[37m\u001b[0m \u001b[1m1s\u001b[0m 5ms/step\n",
            "Baseline Test Accuracy: 0.8895\n",
            "Baseline Classification Report:\n",
            "              precision    recall  f1-score   support\n",
            "\n",
            "           0       0.92      0.87      0.90      1900\n",
            "           1       0.94      0.97      0.95      1900\n",
            "           2       0.83      0.86      0.85      1900\n",
            "           3       0.87      0.86      0.86      1900\n",
            "\n",
            "    accuracy                           0.89      7600\n",
            "   macro avg       0.89      0.89      0.89      7600\n",
            "weighted avg       0.89      0.89      0.89      7600\n",
            "\n"
          ]
        },
        {
          "output_type": "display_data",
          "data": {
            "text/plain": [
              "<Figure size 800x600 with 2 Axes>"
            ],
            "image/png": "[encoded data removed]"
          },
          "metadata": {}
        }
      ],
      "source": [
        "# Evaluate baseline model\n",
        "y_pred = model.predict([X_test_title_pad, X_test_description_pad])\n",
        "y_pred_classes = y_pred.argmax(axis=1)\n",
        "\n",
        "baseline_accuracy = (y_pred_classes == y_test).mean()\n",
        "print(f'Baseline Test Accuracy: {baseline_accuracy:.4f}')\n",
        "print(\"Baseline Classification Report:\")\n",
        "print(classification_report(y_test, y_pred_classes))\n",
        "\n",
        "# Confusion Matrix\n",
        "conf_matrix = confusion_matrix(y_test, y_pred_classes)\n",
        "plt.figure(figsize=(8, 6))\n",
        "sns.heatmap(conf_matrix, annot=True, fmt='d', cmap='Blues', xticklabels=[0, 1, 2, 3], yticklabels=[0, 1, 2, 3])\n",
        "plt.xlabel('Predicted Label')\n",
        "plt.ylabel('True Label')\n",
        "plt.title('Baseline Confusion Matrix')\n",
        "plt.show()"
      ]
    },
    {
      "cell_type": "markdown",
      "id": "c75cf88e",
      "metadata": {
        "id": "c75cf88e"
      },
      "source": [
        "### Hyperparameter selection module"
      ]
    },
    {
      "cell_type": "code",
      "execution_count": 6,
      "id": "09a99bdf",
      "metadata": {
        "colab": {
          "base_uri": "https://localhost:8080/"
        },
        "id": "09a99bdf",
        "outputId": "29d01f63-0f65-417b-d45e-40b6f8b4f835"
      },
      "outputs": [
        {
          "output_type": "stream",
          "name": "stderr",
          "text": [
            "[I 2024-10-29 19:30:40,422] A new study created in memory with name: no-name-cdde670e-dc48-4b34-b296-d373a0e0f01a\n"
          ]
        },
        {
          "output_type": "stream",
          "name": "stdout",
          "text": [
            "Epoch 1/3\n",
            "\u001b[1m3375/3375\u001b[0m \u001b[32m━━━━━━━━━━━━━━━━━━━━\u001b[0m\u001b[37m\u001b[0m \u001b[1m42s\u001b[0m 12ms/step - accuracy: 0.7984 - loss: 0.6050 - val_accuracy: 0.8836 - val_loss: 0.3338\n",
            "Epoch 2/3\n",
            "\u001b[1m3375/3375\u001b[0m \u001b[32m━━━━━━━━━━━━━━━━━━━━\u001b[0m\u001b[37m\u001b[0m \u001b[1m38s\u001b[0m 11ms/step - accuracy: 0.8801 - loss: 0.3482 - val_accuracy: 0.8788 - val_loss: 0.3311\n",
            "Epoch 3/3\n",
            "\u001b[1m3375/3375\u001b[0m \u001b[32m━━━━━━━━━━━━━━━━━━━━\u001b[0m\u001b[37m\u001b[0m \u001b[1m38s\u001b[0m 11ms/step - accuracy: 0.8860 - loss: 0.3272 - val_accuracy: 0.8850 - val_loss: 0.3194\n",
            "\u001b[1m238/238\u001b[0m \u001b[32m━━━━━━━━━━━━━━━━━━━━\u001b[0m\u001b[37m\u001b[0m \u001b[1m2s\u001b[0m 6ms/step - accuracy: 0.8802 - loss: 0.3436\n"
          ]
        },
        {
          "output_type": "stream",
          "name": "stderr",
          "text": [
            "[I 2024-10-29 19:32:39,653] Trial 0 finished with value: 0.8834210634231567 and parameters: {'dropout_rate': 0.24239357139723888, 'learning_rate': 2.86820799662818e-05, 'lstm_units': 209, 'num_units': 242}. Best is trial 0 with value: 0.8834210634231567.\n"
          ]
        },
        {
          "output_type": "stream",
          "name": "stdout",
          "text": [
            "Epoch 1/3\n",
            "\u001b[1m3375/3375\u001b[0m \u001b[32m━━━━━━━━━━━━━━━━━━━━\u001b[0m\u001b[37m\u001b[0m \u001b[1m38s\u001b[0m 11ms/step - accuracy: 0.8622 - loss: 0.3978 - val_accuracy: 0.8925 - val_loss: 0.3063\n",
            "Epoch 2/3\n",
            "\u001b[1m3375/3375\u001b[0m \u001b[32m━━━━━━━━━━━━━━━━━━━━\u001b[0m\u001b[37m\u001b[0m \u001b[1m35s\u001b[0m 10ms/step - accuracy: 0.9051 - loss: 0.2739 - val_accuracy: 0.8985 - val_loss: 0.2899\n",
            "Epoch 3/3\n",
            "\u001b[1m3375/3375\u001b[0m \u001b[32m━━━━━━━━━━━━━━━━━━━━\u001b[0m\u001b[37m\u001b[0m \u001b[1m35s\u001b[0m 10ms/step - accuracy: 0.9138 - loss: 0.2425 - val_accuracy: 0.8959 - val_loss: 0.2970\n",
            "\u001b[1m238/238\u001b[0m \u001b[32m━━━━━━━━━━━━━━━━━━━━\u001b[0m\u001b[37m\u001b[0m \u001b[1m1s\u001b[0m 5ms/step - accuracy: 0.8915 - loss: 0.3199\n"
          ]
        },
        {
          "output_type": "stream",
          "name": "stderr",
          "text": [
            "[I 2024-10-29 19:34:28,856] Trial 1 finished with value: 0.8953947424888611 and parameters: {'dropout_rate': 0.029049853984764562, 'learning_rate': 0.005599330273919606, 'lstm_units': 248, 'num_units': 126}. Best is trial 1 with value: 0.8953947424888611.\n"
          ]
        },
        {
          "output_type": "stream",
          "name": "stdout",
          "text": [
            "Epoch 1/3\n",
            "\u001b[1m3375/3375\u001b[0m \u001b[32m━━━━━━━━━━━━━━━━━━━━\u001b[0m\u001b[37m\u001b[0m \u001b[1m37s\u001b[0m 10ms/step - accuracy: 0.8652 - loss: 0.3968 - val_accuracy: 0.8903 - val_loss: 0.3034\n",
            "Epoch 2/3\n",
            "\u001b[1m3375/3375\u001b[0m \u001b[32m━━━━━━━━━━━━━━━━━━━━\u001b[0m\u001b[37m\u001b[0m \u001b[1m35s\u001b[0m 10ms/step - accuracy: 0.8992 - loss: 0.3008 - val_accuracy: 0.8967 - val_loss: 0.2942\n",
            "Epoch 3/3\n",
            "\u001b[1m3375/3375\u001b[0m \u001b[32m━━━━━━━━━━━━━━━━━━━━\u001b[0m\u001b[37m\u001b[0m \u001b[1m35s\u001b[0m 10ms/step - accuracy: 0.9098 - loss: 0.2662 - val_accuracy: 0.8945 - val_loss: 0.3103\n",
            "\u001b[1m238/238\u001b[0m \u001b[32m━━━━━━━━━━━━━━━━━━━━\u001b[0m\u001b[37m\u001b[0m \u001b[1m1s\u001b[0m 5ms/step - accuracy: 0.8974 - loss: 0.3147\n"
          ]
        },
        {
          "output_type": "stream",
          "name": "stderr",
          "text": [
            "[I 2024-10-29 19:36:17,161] Trial 2 finished with value: 0.8998684287071228 and parameters: {'dropout_rate': 0.47887459365601603, 'learning_rate': 0.004524004939365907, 'lstm_units': 105, 'num_units': 205}. Best is trial 2 with value: 0.8998684287071228.\n"
          ]
        },
        {
          "output_type": "stream",
          "name": "stdout",
          "text": [
            "Epoch 1/3\n",
            "\u001b[1m3375/3375\u001b[0m \u001b[32m━━━━━━━━━━━━━━━━━━━━\u001b[0m\u001b[37m\u001b[0m \u001b[1m38s\u001b[0m 11ms/step - accuracy: 0.7982 - loss: 0.5920 - val_accuracy: 0.8783 - val_loss: 0.3406\n",
            "Epoch 2/3\n",
            "\u001b[1m3375/3375\u001b[0m \u001b[32m━━━━━━━━━━━━━━━━━━━━\u001b[0m\u001b[37m\u001b[0m \u001b[1m36s\u001b[0m 11ms/step - accuracy: 0.8785 - loss: 0.3531 - val_accuracy: 0.8840 - val_loss: 0.3214\n",
            "Epoch 3/3\n",
            "\u001b[1m3375/3375\u001b[0m \u001b[32m━━━━━━━━━━━━━━━━━━━━\u001b[0m\u001b[37m\u001b[0m \u001b[1m35s\u001b[0m 10ms/step - accuracy: 0.8855 - loss: 0.3274 - val_accuracy: 0.8890 - val_loss: 0.3126\n",
            "\u001b[1m238/238\u001b[0m \u001b[32m━━━━━━━━━━━━━━━━━━━━\u001b[0m\u001b[37m\u001b[0m \u001b[1m1s\u001b[0m 4ms/step - accuracy: 0.8827 - loss: 0.3330\n"
          ]
        },
        {
          "output_type": "stream",
          "name": "stderr",
          "text": [
            "[I 2024-10-29 19:38:07,389] Trial 3 finished with value: 0.887499988079071 and parameters: {'dropout_rate': 0.4402739441459317, 'learning_rate': 4.4639526412095084e-05, 'lstm_units': 168, 'num_units': 204}. Best is trial 2 with value: 0.8998684287071228.\n"
          ]
        },
        {
          "output_type": "stream",
          "name": "stdout",
          "text": [
            "Epoch 1/3\n",
            "\u001b[1m3375/3375\u001b[0m \u001b[32m━━━━━━━━━━━━━━━━━━━━\u001b[0m\u001b[37m\u001b[0m \u001b[1m37s\u001b[0m 10ms/step - accuracy: 0.8549 - loss: 0.4158 - val_accuracy: 0.8905 - val_loss: 0.2971\n",
            "Epoch 2/3\n",
            "\u001b[1m3375/3375\u001b[0m \u001b[32m━━━━━━━━━━━━━━━━━━━━\u001b[0m\u001b[37m\u001b[0m \u001b[1m34s\u001b[0m 10ms/step - accuracy: 0.8955 - loss: 0.2968 - val_accuracy: 0.8987 - val_loss: 0.2745\n",
            "Epoch 3/3\n",
            "\u001b[1m3375/3375\u001b[0m \u001b[32m━━━━━━━━━━━━━━━━━━━━\u001b[0m\u001b[37m\u001b[0m \u001b[1m35s\u001b[0m 10ms/step - accuracy: 0.9100 - loss: 0.2549 - val_accuracy: 0.8959 - val_loss: 0.2824\n",
            "\u001b[1m238/238\u001b[0m \u001b[32m━━━━━━━━━━━━━━━━━━━━\u001b[0m\u001b[37m\u001b[0m \u001b[1m1s\u001b[0m 5ms/step - accuracy: 0.9054 - loss: 0.2731\n"
          ]
        },
        {
          "output_type": "stream",
          "name": "stderr",
          "text": [
            "[I 2024-10-29 19:39:54,966] Trial 4 finished with value: 0.9027631282806396 and parameters: {'dropout_rate': 0.3748942340245407, 'learning_rate': 0.0003807838415100024, 'lstm_units': 158, 'num_units': 240}. Best is trial 4 with value: 0.9027631282806396.\n"
          ]
        },
        {
          "output_type": "stream",
          "name": "stdout",
          "text": [
            "Best Trial: FrozenTrial(number=4, state=TrialState.COMPLETE, values=[0.9027631282806396], datetime_start=datetime.datetime(2024, 10, 29, 19, 38, 7, 390831), datetime_complete=datetime.datetime(2024, 10, 29, 19, 39, 54, 966265), params={'dropout_rate': 0.3748942340245407, 'learning_rate': 0.0003807838415100024, 'lstm_units': 158, 'num_units': 240}, user_attrs={}, system_attrs={}, intermediate_values={}, distributions={'dropout_rate': FloatDistribution(high=0.5, log=False, low=0.0, step=None), 'learning_rate': FloatDistribution(high=0.01, log=True, low=1e-05, step=None), 'lstm_units': IntDistribution(high=256, log=False, low=64, step=1), 'num_units': IntDistribution(high=512, log=False, low=64, step=1)}, trial_id=4, value=None)\n"
          ]
        }
      ],
      "source": [
        "def model_builder(trial):\n",
        "    # Define hyperparameters for optimization\n",
        "    dropout_rate = trial.suggest_float('dropout_rate', 0.0, 0.5)\n",
        "    learning_rate = trial.suggest_float('learning_rate', 1e-5, 1e-2, log=True)\n",
        "    lstm_units = trial.suggest_int('lstm_units', 64, 256)\n",
        "    num_units = trial.suggest_int('num_units', 64, 512)\n",
        "\n",
        "    # Define model structure with Optuna parameters\n",
        "    title_input = Input(shape=(max_length_titles,), name='title_input')\n",
        "    title_embedding = embedding_layer(title_input)\n",
        "    title_lstm = LSTM(lstm_units, return_sequences=False)(title_embedding)\n",
        "\n",
        "    description_input = Input(shape=(max_length_descriptions,), name='description_input')\n",
        "    description_embedding = embedding_layer(description_input)\n",
        "    description_lstm = LSTM(lstm_units, return_sequences=False)(description_embedding)\n",
        "\n",
        "    merged = Concatenate()([title_lstm, description_lstm])\n",
        "    dense_1 = Dense(num_units, activation='relu')(merged)\n",
        "    dropout_1 = Dropout(dropout_rate)(dense_1)\n",
        "    output = Dense(4, activation='softmax')(dropout_1)\n",
        "\n",
        "    model = Model(inputs=[title_input, description_input], outputs=output)\n",
        "    optimizer = Adam(learning_rate=learning_rate)\n",
        "    model.compile(optimizer=optimizer, loss='sparse_categorical_crossentropy', metrics=['accuracy'])\n",
        "    return model\n",
        "\n",
        "# Objective function for Optuna\n",
        "def objective(trial):\n",
        "    model = model_builder(trial)\n",
        "    model.fit([X_train_title_pad, X_train_description_pad], y_train, validation_split=0.1, epochs=3, batch_size=32, verbose=1)\n",
        "    _, accuracy = model.evaluate([X_test_title_pad, X_test_description_pad], y_test, verbose=1)\n",
        "    return accuracy\n",
        "\n",
        "# Run Optuna optimization\n",
        "study = optuna.create_study(direction='maximize')\n",
        "study.optimize(objective, n_trials=5)\n",
        "print(\"Best Trial:\", study.best_trial)"
      ]
    },
    {
      "cell_type": "markdown",
      "id": "0a05cc49-7725-4cc1-aea4-ed059e188af0",
      "metadata": {
        "id": "0a05cc49-7725-4cc1-aea4-ed059e188af0"
      },
      "source": [
        "### Testing module 2 (Optimized Model)"
      ]
    },
    {
      "cell_type": "code",
      "execution_count": 7,
      "id": "ee46cd1e-6845-4f0e-835c-ce96554e3a86",
      "metadata": {
        "colab": {
          "base_uri": "https://localhost:8080/",
          "height": 993
        },
        "id": "ee46cd1e-6845-4f0e-835c-ce96554e3a86",
        "outputId": "8bc49c67-61fb-44b6-dd57-b2f8b36720b8"
      },
      "outputs": [
        {
          "output_type": "stream",
          "name": "stdout",
          "text": [
            "Epoch 1/5\n",
            "\u001b[1m3375/3375\u001b[0m \u001b[32m━━━━━━━━━━━━━━━━━━━━\u001b[0m\u001b[37m\u001b[0m \u001b[1m37s\u001b[0m 10ms/step - accuracy: 0.8589 - loss: 0.4096 - val_accuracy: 0.8799 - val_loss: 0.3252\n",
            "Epoch 2/5\n",
            "\u001b[1m3375/3375\u001b[0m \u001b[32m━━━━━━━━━━━━━━━━━━━━\u001b[0m\u001b[37m\u001b[0m \u001b[1m35s\u001b[0m 10ms/step - accuracy: 0.8977 - loss: 0.2908 - val_accuracy: 0.8957 - val_loss: 0.2804\n",
            "Epoch 3/5\n",
            "\u001b[1m3375/3375\u001b[0m \u001b[32m━━━━━━━━━━━━━━━━━━━━\u001b[0m\u001b[37m\u001b[0m \u001b[1m34s\u001b[0m 10ms/step - accuracy: 0.9099 - loss: 0.2578 - val_accuracy: 0.8967 - val_loss: 0.2803\n",
            "Epoch 4/5\n",
            "\u001b[1m3375/3375\u001b[0m \u001b[32m━━━━━━━━━━━━━━━━━━━━\u001b[0m\u001b[37m\u001b[0m \u001b[1m34s\u001b[0m 10ms/step - accuracy: 0.9201 - loss: 0.2259 - val_accuracy: 0.9032 - val_loss: 0.2704\n",
            "Epoch 5/5\n",
            "\u001b[1m3375/3375\u001b[0m \u001b[32m━━━━━━━━━━━━━━━━━━━━\u001b[0m\u001b[37m\u001b[0m \u001b[1m35s\u001b[0m 10ms/step - accuracy: 0.9270 - loss: 0.2034 - val_accuracy: 0.9013 - val_loss: 0.2772\n",
            "\u001b[1m238/238\u001b[0m \u001b[32m━━━━━━━━━━━━━━━━━━━━\u001b[0m\u001b[37m\u001b[0m \u001b[1m1s\u001b[0m 5ms/step\n",
            "Final Test Accuracy: 0.9071\n",
            "Final Classification Report:\n",
            "              precision    recall  f1-score   support\n",
            "\n",
            "           0       0.94      0.90      0.92      1900\n",
            "           1       0.95      0.97      0.96      1900\n",
            "           2       0.89      0.86      0.87      1900\n",
            "           3       0.86      0.90      0.88      1900\n",
            "\n",
            "    accuracy                           0.91      7600\n",
            "   macro avg       0.91      0.91      0.91      7600\n",
            "weighted avg       0.91      0.91      0.91      7600\n",
            "\n"
          ]
        },
        {
          "output_type": "display_data",
          "data": {
            "text/plain": [
              "<Figure size 800x600 with 2 Axes>"
            ],
            "image/png": "[encoded data removed]"
          },
          "metadata": {}
        }
      ],
      "source": [
        "# Load the best model from Optuna optimization\n",
        "best_trial = study.best_trial\n",
        "model = model_builder(best_trial)\n",
        "model.fit([X_train_title_pad, X_train_description_pad], y_train, validation_split=0.1, epochs=5, batch_size=32, verbose=1)\n",
        "\n",
        "# Evaluate optimized model\n",
        "y_pred = model.predict([X_test_title_pad, X_test_description_pad])\n",
        "y_pred_classes = y_pred.argmax(axis=1)\n",
        "\n",
        "final_accuracy = (y_pred_classes == y_test).mean()\n",
        "print(f'Final Test Accuracy: {final_accuracy:.4f}')\n",
        "print(\"Final Classification Report:\")\n",
        "print(classification_report(y_test, y_pred_classes))\n",
        "\n",
        "# Confusion Matrix for optimized model\n",
        "conf_matrix = confusion_matrix(y_test, y_pred_classes)\n",
        "plt.figure(figsize=(8, 6))\n",
        "sns.heatmap(conf_matrix, annot=True, fmt='d', cmap='Blues', xticklabels=[0, 1, 2, 3], yticklabels=[0, 1, 2, 3])\n",
        "plt.xlabel('Predicted Label')\n",
        "plt.ylabel('True Label')\n",
        "plt.title('Optimized Confusion Matrix')\n",
        "plt.show()"
      ]
    },
    {
      "cell_type": "code",
      "execution_count": 7,
      "id": "f8067f72-a519-4449-ac64-8ae3e97291ec",
      "metadata": {
        "id": "f8067f72-a519-4449-ac64-8ae3e97291ec"
      },
      "outputs": [],
      "source": []
    }
  ],
  "metadata": {
    "accelerator": "GPU",
    "colab": {
      "gpuType": "A100",
      "provenance": [],
      "machine_shape": "hm"
    },
    "kernelspec": {
      "display_name": "Python 3",
      "name": "python3"
    },
    "language_info": {
      "codemirror_mode": {
        "name": "ipython",
        "version": 3
      },
      "file_extension": ".py",
      "mimetype": "text/x-python",
      "name": "python",
      "nbconvert_exporter": "python",
      "pygments_lexer": "ipython3",
      "version": "3.12.4"
    }
  },
  "nbformat": 4,
  "nbformat_minor": 5
}