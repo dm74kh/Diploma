{
  "cells": [
    {
      "cell_type": "markdown",
      "id": "5776b465-b446-4cc7-908c-26b4a93e1cc8",
      "metadata": {
        "id": "5776b465-b446-4cc7-908c-26b4a93e1cc8"
      },
      "source": [
        "### CNN"
      ]
    },
    {
      "cell_type": "markdown",
      "id": "357208c6-6105-4209-8b03-c3b2df12c4ef",
      "metadata": {
        "id": "357208c6-6105-4209-8b03-c3b2df12c4ef"
      },
      "source": [
        "### Import libraries"
      ]
    },
    {
      "cell_type": "code",
      "execution_count": 1,
      "id": "9955a1a5",
      "metadata": {
        "colab": {
          "base_uri": "https://localhost:8080/"
        },
        "id": "9955a1a5",
        "outputId": "ece8fb24-077b-44c4-a5e3-86bbdf244738"
      },
      "outputs": [
        {
          "output_type": "stream",
          "name": "stdout",
          "text": [
            "Collecting optuna\n",
            "  Downloading optuna-4.0.0-py3-none-any.whl.metadata (16 kB)\n",
            "Collecting alembic>=1.5.0 (from optuna)\n",
            "  Downloading alembic-1.13.3-py3-none-any.whl.metadata (7.4 kB)\n",
            "Collecting colorlog (from optuna)\n",
            "  Downloading colorlog-6.9.0-py3-none-any.whl.metadata (10 kB)\n",
            "Requirement already satisfied: numpy in /usr/local/lib/python3.10/dist-packages (from optuna) (1.26.4)\n",
            "Requirement already satisfied: packaging>=20.0 in /usr/local/lib/python3.10/dist-packages (from optuna) (24.1)\n",
            "Requirement already satisfied: sqlalchemy>=1.3.0 in /usr/local/lib/python3.10/dist-packages (from optuna) (2.0.36)\n",
            "Requirement already satisfied: tqdm in /usr/local/lib/python3.10/dist-packages (from optuna) (4.66.5)\n",
            "Requirement already satisfied: PyYAML in /usr/local/lib/python3.10/dist-packages (from optuna) (6.0.2)\n",
            "Collecting Mako (from alembic>=1.5.0->optuna)\n",
            "  Downloading Mako-1.3.6-py3-none-any.whl.metadata (2.9 kB)\n",
            "Requirement already satisfied: typing-extensions>=4 in /usr/local/lib/python3.10/dist-packages (from alembic>=1.5.0->optuna) (4.12.2)\n",
            "Requirement already satisfied: greenlet!=0.4.17 in /usr/local/lib/python3.10/dist-packages (from sqlalchemy>=1.3.0->optuna) (3.1.1)\n",
            "Requirement already satisfied: MarkupSafe>=0.9.2 in /usr/local/lib/python3.10/dist-packages (from Mako->alembic>=1.5.0->optuna) (3.0.2)\n",
            "Downloading optuna-4.0.0-py3-none-any.whl (362 kB)\n",
            "\u001b[2K   \u001b[90m━━━━━━━━━━━━━━━━━━━━━━━━━━━━━━━━━━━━━━━━\u001b[0m \u001b[32m362.8/362.8 kB\u001b[0m \u001b[31m6.5 MB/s\u001b[0m eta \u001b[36m0:00:00\u001b[0m\n",
            "\u001b[?25hDownloading alembic-1.13.3-py3-none-any.whl (233 kB)\n",
            "\u001b[2K   \u001b[90m━━━━━━━━━━━━━━━━━━━━━━━━━━━━━━━━━━━━━━━━\u001b[0m \u001b[32m233.2/233.2 kB\u001b[0m \u001b[31m10.0 MB/s\u001b[0m eta \u001b[36m0:00:00\u001b[0m\n",
            "\u001b[?25hDownloading colorlog-6.9.0-py3-none-any.whl (11 kB)\n",
            "Downloading Mako-1.3.6-py3-none-any.whl (78 kB)\n",
            "\u001b[2K   \u001b[90m━━━━━━━━━━━━━━━━━━━━━━━━━━━━━━━━━━━━━━━━\u001b[0m \u001b[32m78.6/78.6 kB\u001b[0m \u001b[31m4.4 MB/s\u001b[0m eta \u001b[36m0:00:00\u001b[0m\n",
            "\u001b[?25hInstalling collected packages: Mako, colorlog, alembic, optuna\n",
            "Successfully installed Mako-1.3.6 alembic-1.13.3 colorlog-6.9.0 optuna-4.0.0\n"
          ]
        },
        {
          "output_type": "stream",
          "name": "stderr",
          "text": [
            "[nltk_data] Downloading package stopwords to /root/nltk_data...\n",
            "[nltk_data]   Unzipping corpora/stopwords.zip.\n",
            "[nltk_data] Downloading package wordnet to /root/nltk_data...\n"
          ]
        },
        {
          "output_type": "execute_result",
          "data": {
            "text/plain": [
              "True"
            ]
          },
          "metadata": {},
          "execution_count": 1
        }
      ],
      "source": [
        "!pip install optuna\n",
        "\n",
        "import pandas as pd\n",
        "import numpy as np\n",
        "import re\n",
        "from tensorflow.keras.preprocessing.text import Tokenizer\n",
        "from tensorflow.keras.preprocessing.sequence import pad_sequences\n",
        "from nltk.corpus import stopwords\n",
        "from nltk.stem import WordNetLemmatizer\n",
        "from tensorflow.keras.layers import Input, Embedding, Dense, Flatten, Concatenate, Dropout, Conv1D, MaxPooling1D\n",
        "from tensorflow.keras.models import Model\n",
        "import optuna\n",
        "from tensorflow.keras.optimizers import Adam\n",
        "from sklearn.metrics import classification_report, confusion_matrix\n",
        "import seaborn as sns\n",
        "import matplotlib.pyplot as plt\n",
        "from tensorflow.keras.callbacks import EarlyStopping\n",
        "\n",
        "import nltk\n",
        "nltk.download('stopwords')\n",
        "nltk.download('wordnet')"
      ]
    },
    {
      "cell_type": "markdown",
      "id": "8d3ae439",
      "metadata": {
        "id": "8d3ae439"
      },
      "source": [
        "### Preprocessing module"
      ]
    },
    {
      "cell_type": "code",
      "execution_count": 2,
      "id": "6fcecbbe-39d2-4e6b-a077-bc8b32c4a91a",
      "metadata": {
        "id": "6fcecbbe-39d2-4e6b-a077-bc8b32c4a91a"
      },
      "outputs": [],
      "source": [
        "# Load data\n",
        "train_url = 'https://raw.githubusercontent.com/mhjabreel/CharCnn_Keras/master/data/ag_news_csv/train.csv'\n",
        "test_url = 'https://raw.githubusercontent.com/mhjabreel/CharCnn_Keras/master/data/ag_news_csv/test.csv'\n",
        "\n",
        "train_df = pd.read_csv(train_url, header=None)\n",
        "test_df = pd.read_csv(test_url, header=None)\n",
        "train_df.columns = ['Class Index', 'Title', 'Description']\n",
        "test_df.columns = ['Class Index', 'Title', 'Description']"
      ]
    },
    {
      "cell_type": "code",
      "execution_count": 3,
      "id": "98322476-1cc5-4d7a-a92c-e21b710aeed2",
      "metadata": {
        "colab": {
          "base_uri": "https://localhost:8080/"
        },
        "id": "98322476-1cc5-4d7a-a92c-e21b710aeed2",
        "outputId": "2a991b81-c5bd-40a6-ede2-998db6d0ec4f"
      },
      "outputs": [
        {
          "output_type": "stream",
          "name": "stdout",
          "text": [
            "Mounted at /content/drive\n"
          ]
        }
      ],
      "source": [
        "# Define stop words and lemmatizer for text cleaning\n",
        "stop_words = set(stopwords.words('english'))\n",
        "lemmatizer = WordNetLemmatizer()\n",
        "\n",
        "def preprocess_text(text):\n",
        "    text = text.lower() # convert text to lowercase\n",
        "    text = re.sub(r'\\b(u\\.s\\.|us)\\b', 'usa', text, flags=re.IGNORECASE)  # replace \"U.S.\" or \"US\" with \"usa\"\n",
        "    text = re.sub(r'<[^>]+>', '', text)  # remove HTML tags\n",
        "    text = re.sub(r'&\\w+;', '', text)  # remove HTML entities\n",
        "    text = re.sub(r'[^a-z\\s]', '', text)  # remove numbers and punctuation (keep only letters and spaces)\n",
        "    words = text.split()\n",
        "    words = [word for word in words if word not in stop_words] # remove stop-words, tokenization\n",
        "    words = [lemmatizer.lemmatize(word) for word in words] # lemmatization\n",
        "    return ' '.join(words) # combining words into a string\n",
        "\n",
        "# Apply preprocessing\n",
        "train_df['clean_text'] = (train_df['Title'] + ' ' + train_df['Description']).apply(preprocess_text)\n",
        "test_df['clean_text'] = (test_df['Title'] + ' ' + test_df['Description']).apply(preprocess_text)\n",
        "\n",
        "# Tokenization and padding\n",
        "tokenizer = Tokenizer(num_words=5000)\n",
        "tokenizer.fit_on_texts(train_df['clean_text'])\n",
        "max_length_titles = max([len(x.split()) for x in train_df['Title']])\n",
        "max_length_descriptions = max([len(x.split()) for x in train_df['Description']])\n",
        "\n",
        "X_train_title_pad = pad_sequences(tokenizer.texts_to_sequences(train_df['Title']), maxlen=max_length_titles)\n",
        "X_test_title_pad = pad_sequences(tokenizer.texts_to_sequences(test_df['Title']), maxlen=max_length_titles)\n",
        "X_train_description_pad = pad_sequences(tokenizer.texts_to_sequences(train_df['Description']), maxlen=max_length_descriptions)\n",
        "X_test_description_pad = pad_sequences(tokenizer.texts_to_sequences(test_df['Description']), maxlen=max_length_descriptions)\n",
        "\n",
        "y_train = train_df['Class Index'].values - 1\n",
        "y_test = test_df['Class Index'].values - 1\n",
        "\n",
        "# Download and load GloVe embeddings\n",
        "# !wget http://nlp.stanford.edu/data/glove.6B.zip\n",
        "# !unzip glove.6B.zip\n",
        "\n",
        "from google.colab import drive\n",
        "drive.mount('/content/drive')\n",
        "\n",
        "# Load GloVe embeddings\n",
        "embedding_index = {}\n",
        "with open('/content/drive/MyDrive/glove.6B.100d.txt', encoding='utf-8') as f:\n",
        "    for line in f:\n",
        "        values = line.split()\n",
        "        word = values[0]\n",
        "        coefs = np.asarray(values[1:], dtype='float32')\n",
        "        embedding_index[word] = coefs\n",
        "\n",
        "embedding_matrix = np.zeros((5000, 100))\n",
        "for word, i in tokenizer.word_index.items():\n",
        "    if i < 5000:\n",
        "        embedding_vector = embedding_index.get(word)\n",
        "        if embedding_vector is not None:\n",
        "            embedding_matrix[i] = embedding_vector\n",
        "\n",
        "embedding_layer = Embedding(input_dim=5000, output_dim=100, weights=[embedding_matrix], trainable=False)"
      ]
    },
    {
      "cell_type": "markdown",
      "id": "74979b6e",
      "metadata": {
        "id": "74979b6e"
      },
      "source": [
        "### Basic training module"
      ]
    },
    {
      "cell_type": "code",
      "execution_count": 4,
      "id": "55ecc3bd",
      "metadata": {
        "colab": {
          "base_uri": "https://localhost:8080/"
        },
        "id": "55ecc3bd",
        "outputId": "53ef8251-3c12-4696-d631-abc85e4af64b"
      },
      "outputs": [
        {
          "output_type": "stream",
          "name": "stdout",
          "text": [
            "Epoch 1/5\n",
            "\u001b[1m3375/3375\u001b[0m \u001b[32m━━━━━━━━━━━━━━━━━━━━\u001b[0m\u001b[37m\u001b[0m \u001b[1m14s\u001b[0m 2ms/step - accuracy: 0.7814 - loss: 0.6403 - val_accuracy: 0.8625 - val_loss: 0.3802\n",
            "Epoch 2/5\n",
            "\u001b[1m3375/3375\u001b[0m \u001b[32m━━━━━━━━━━━━━━━━━━━━\u001b[0m\u001b[37m\u001b[0m \u001b[1m6s\u001b[0m 2ms/step - accuracy: 0.8738 - loss: 0.3646 - val_accuracy: 0.8752 - val_loss: 0.3489\n",
            "Epoch 3/5\n",
            "\u001b[1m3375/3375\u001b[0m \u001b[32m━━━━━━━━━━━━━━━━━━━━\u001b[0m\u001b[37m\u001b[0m \u001b[1m6s\u001b[0m 2ms/step - accuracy: 0.8809 - loss: 0.3401 - val_accuracy: 0.8742 - val_loss: 0.3456\n",
            "Epoch 4/5\n",
            "\u001b[1m3375/3375\u001b[0m \u001b[32m━━━━━━━━━━━━━━━━━━━━\u001b[0m\u001b[37m\u001b[0m \u001b[1m6s\u001b[0m 2ms/step - accuracy: 0.8872 - loss: 0.3193 - val_accuracy: 0.8773 - val_loss: 0.3393\n",
            "Epoch 5/5\n",
            "\u001b[1m3375/3375\u001b[0m \u001b[32m━━━━━━━━━━━━━━━━━━━━\u001b[0m\u001b[37m\u001b[0m \u001b[1m6s\u001b[0m 2ms/step - accuracy: 0.8940 - loss: 0.3012 - val_accuracy: 0.8780 - val_loss: 0.3314\n"
          ]
        },
        {
          "output_type": "execute_result",
          "data": {
            "text/plain": [
              "<keras.src.callbacks.history.History at 0x7a4604d04d00>"
            ]
          },
          "metadata": {},
          "execution_count": 4
        }
      ],
      "source": [
        "# Define CNN model architecture\n",
        "title_input = Input(shape=(max_length_titles,), name='title_input')\n",
        "title_embedding = embedding_layer(title_input)\n",
        "title_conv1d = Conv1D(filters=128, kernel_size=3, activation='relu')(title_embedding)\n",
        "title_maxpool = MaxPooling1D(pool_size=2)(title_conv1d)\n",
        "title_flatten = Flatten()(title_maxpool)\n",
        "\n",
        "description_input = Input(shape=(max_length_descriptions,), name='description_input')\n",
        "description_embedding = embedding_layer(description_input)\n",
        "description_conv1d = Conv1D(filters=128, kernel_size=3, activation='relu')(description_embedding)\n",
        "description_maxpool = MaxPooling1D(pool_size=2)(description_conv1d)\n",
        "description_flatten = Flatten()(description_maxpool)\n",
        "\n",
        "merged = Concatenate()([title_flatten, description_flatten])\n",
        "dense_1 = Dense(128, activation='relu')(merged)\n",
        "dense_2 = Dense(64, activation='relu')(dense_1)\n",
        "output = Dense(4, activation='softmax')(dense_2)\n",
        "\n",
        "model = Model(inputs=[title_input, description_input], outputs=output)\n",
        "model.compile(optimizer=Adam(learning_rate=3e-5), loss='sparse_categorical_crossentropy', metrics=['accuracy'])\n",
        "early_stopping = EarlyStopping(monitor='val_loss', patience=3, restore_best_weights=True)\n",
        "\n",
        "# Train the baseline model\n",
        "model.fit([X_train_title_pad, X_train_description_pad], y_train, validation_split=0.1,\n",
        "          epochs=5, batch_size=32, callbacks=[early_stopping], verbose=1)"
      ]
    },
    {
      "cell_type": "markdown",
      "id": "5b332102-77ff-4925-90bd-99a4ed086ee1",
      "metadata": {
        "id": "5b332102-77ff-4925-90bd-99a4ed086ee1"
      },
      "source": [
        "### Testing Module 1 (Base Model)"
      ]
    },
    {
      "cell_type": "code",
      "execution_count": 5,
      "id": "6eb959e3-bd59-4508-9681-68aee4a21ba4",
      "metadata": {
        "colab": {
          "base_uri": "https://localhost:8080/",
          "height": 814
        },
        "id": "6eb959e3-bd59-4508-9681-68aee4a21ba4",
        "outputId": "2dd6b79c-188d-4367-cc74-eacb7f361d11"
      },
      "outputs": [
        {
          "output_type": "stream",
          "name": "stdout",
          "text": [
            "\u001b[1m238/238\u001b[0m \u001b[32m━━━━━━━━━━━━━━━━━━━━\u001b[0m\u001b[37m\u001b[0m \u001b[1m2s\u001b[0m 5ms/step\n",
            "Baseline Test Accuracy: 0.8820\n",
            "Baseline Classification Report:\n",
            "              precision    recall  f1-score   support\n",
            "\n",
            "           0       0.92      0.87      0.89      1900\n",
            "           1       0.93      0.95      0.94      1900\n",
            "           2       0.85      0.83      0.84      1900\n",
            "           3       0.84      0.88      0.86      1900\n",
            "\n",
            "    accuracy                           0.88      7600\n",
            "   macro avg       0.88      0.88      0.88      7600\n",
            "weighted avg       0.88      0.88      0.88      7600\n",
            "\n"
          ]
        },
        {
          "output_type": "display_data",
          "data": {
            "text/plain": [
              "<Figure size 800x600 with 2 Axes>"
            ],
            "image/png": "[encoded data removed]"
          },
          "metadata": {}
        }
      ],
      "source": [
        "# Evaluate baseline model\n",
        "y_pred = model.predict([X_test_title_pad, X_test_description_pad])\n",
        "y_pred_classes = y_pred.argmax(axis=1)\n",
        "\n",
        "baseline_accuracy = (y_pred_classes == y_test).mean()\n",
        "print(f'Baseline Test Accuracy: {baseline_accuracy:.4f}')\n",
        "print(\"Baseline Classification Report:\")\n",
        "print(classification_report(y_test, y_pred_classes))\n",
        "\n",
        "# Confusion Matrix\n",
        "conf_matrix = confusion_matrix(y_test, y_pred_classes)\n",
        "plt.figure(figsize=(8, 6))\n",
        "sns.heatmap(conf_matrix, annot=True, fmt='d', cmap='Blues', xticklabels=[0, 1, 2, 3], yticklabels=[0, 1, 2, 3])\n",
        "plt.xlabel('Predicted Label')\n",
        "plt.ylabel('True Label')\n",
        "plt.title('Baseline Confusion Matrix')\n",
        "plt.show()"
      ]
    },
    {
      "cell_type": "markdown",
      "id": "c75cf88e",
      "metadata": {
        "id": "c75cf88e"
      },
      "source": [
        "### Hyperparameter selection module"
      ]
    },
    {
      "cell_type": "code",
      "execution_count": 6,
      "id": "09a99bdf",
      "metadata": {
        "colab": {
          "base_uri": "https://localhost:8080/"
        },
        "id": "09a99bdf",
        "outputId": "347a3d43-00df-41af-9593-32a4e66afe2c"
      },
      "outputs": [
        {
          "output_type": "stream",
          "name": "stderr",
          "text": [
            "[I 2024-10-29 19:21:24,548] A new study created in memory with name: no-name-37b249e9-30ef-496a-b6ca-f9ba69d56362\n"
          ]
        },
        {
          "output_type": "stream",
          "name": "stdout",
          "text": [
            "Epoch 1/3\n",
            "\u001b[1m3375/3375\u001b[0m \u001b[32m━━━━━━━━━━━━━━━━━━━━\u001b[0m\u001b[37m\u001b[0m \u001b[1m12s\u001b[0m 3ms/step - accuracy: 0.8489 - loss: 0.4287 - val_accuracy: 0.8783 - val_loss: 0.3327\n",
            "Epoch 2/3\n",
            "\u001b[1m3375/3375\u001b[0m \u001b[32m━━━━━━━━━━━━━━━━━━━━\u001b[0m\u001b[37m\u001b[0m \u001b[1m6s\u001b[0m 2ms/step - accuracy: 0.9021 - loss: 0.2793 - val_accuracy: 0.8874 - val_loss: 0.3101\n",
            "Epoch 3/3\n",
            "\u001b[1m3375/3375\u001b[0m \u001b[32m━━━━━━━━━━━━━━━━━━━━\u001b[0m\u001b[37m\u001b[0m \u001b[1m7s\u001b[0m 2ms/step - accuracy: 0.9247 - loss: 0.2132 - val_accuracy: 0.8882 - val_loss: 0.3260\n",
            "\u001b[1m238/238\u001b[0m \u001b[32m━━━━━━━━━━━━━━━━━━━━\u001b[0m\u001b[37m\u001b[0m \u001b[1m3s\u001b[0m 7ms/step - accuracy: 0.8872 - loss: 0.3462\n"
          ]
        },
        {
          "output_type": "stream",
          "name": "stderr",
          "text": [
            "[I 2024-10-29 19:21:52,704] Trial 0 finished with value: 0.8876315951347351 and parameters: {'dropout_rate': 0.13428643790840444, 'learning_rate': 0.0003207654654603091, 'filters': 212, 'kernel_size': 3, 'num_units': 105}. Best is trial 0 with value: 0.8876315951347351.\n"
          ]
        },
        {
          "output_type": "stream",
          "name": "stdout",
          "text": [
            "Epoch 1/3\n",
            "\u001b[1m3375/3375\u001b[0m \u001b[32m━━━━━━━━━━━━━━━━━━━━\u001b[0m\u001b[37m\u001b[0m \u001b[1m14s\u001b[0m 3ms/step - accuracy: 0.8331 - loss: 0.4783 - val_accuracy: 0.8771 - val_loss: 0.3411\n",
            "Epoch 2/3\n",
            "\u001b[1m3375/3375\u001b[0m \u001b[32m━━━━━━━━━━━━━━━━━━━━\u001b[0m\u001b[37m\u001b[0m \u001b[1m7s\u001b[0m 2ms/step - accuracy: 0.8906 - loss: 0.3139 - val_accuracy: 0.8848 - val_loss: 0.3167\n",
            "Epoch 3/3\n",
            "\u001b[1m3375/3375\u001b[0m \u001b[32m━━━━━━━━━━━━━━━━━━━━\u001b[0m\u001b[37m\u001b[0m \u001b[1m7s\u001b[0m 2ms/step - accuracy: 0.9059 - loss: 0.2664 - val_accuracy: 0.8864 - val_loss: 0.3166\n",
            "\u001b[1m238/238\u001b[0m \u001b[32m━━━━━━━━━━━━━━━━━━━━\u001b[0m\u001b[37m\u001b[0m \u001b[1m4s\u001b[0m 9ms/step - accuracy: 0.8876 - loss: 0.3336\n"
          ]
        },
        {
          "output_type": "stream",
          "name": "stderr",
          "text": [
            "[I 2024-10-29 19:22:25,159] Trial 1 finished with value: 0.8871052861213684 and parameters: {'dropout_rate': 0.22421082935974013, 'learning_rate': 8.4670951627142e-05, 'filters': 216, 'kernel_size': 3, 'num_units': 446}. Best is trial 0 with value: 0.8876315951347351.\n"
          ]
        },
        {
          "output_type": "stream",
          "name": "stdout",
          "text": [
            "Epoch 1/3\n",
            "\u001b[1m3375/3375\u001b[0m \u001b[32m━━━━━━━━━━━━━━━━━━━━\u001b[0m\u001b[37m\u001b[0m \u001b[1m13s\u001b[0m 3ms/step - accuracy: 0.8250 - loss: 0.4972 - val_accuracy: 0.8763 - val_loss: 0.3427\n",
            "Epoch 2/3\n",
            "\u001b[1m3375/3375\u001b[0m \u001b[32m━━━━━━━━━━━━━━━━━━━━\u001b[0m\u001b[37m\u001b[0m \u001b[1m7s\u001b[0m 2ms/step - accuracy: 0.8876 - loss: 0.3215 - val_accuracy: 0.8838 - val_loss: 0.3271\n",
            "Epoch 3/3\n",
            "\u001b[1m3375/3375\u001b[0m \u001b[32m━━━━━━━━━━━━━━━━━━━━\u001b[0m\u001b[37m\u001b[0m \u001b[1m7s\u001b[0m 2ms/step - accuracy: 0.9033 - loss: 0.2769 - val_accuracy: 0.8880 - val_loss: 0.3120\n",
            "\u001b[1m238/238\u001b[0m \u001b[32m━━━━━━━━━━━━━━━━━━━━\u001b[0m\u001b[37m\u001b[0m \u001b[1m4s\u001b[0m 11ms/step - accuracy: 0.8910 - loss: 0.3196\n"
          ]
        },
        {
          "output_type": "stream",
          "name": "stderr",
          "text": [
            "[I 2024-10-29 19:22:56,611] Trial 2 finished with value: 0.8893421292304993 and parameters: {'dropout_rate': 0.2912532900042225, 'learning_rate': 9.832780773594361e-05, 'filters': 184, 'kernel_size': 3, 'num_units': 258}. Best is trial 2 with value: 0.8893421292304993.\n"
          ]
        },
        {
          "output_type": "stream",
          "name": "stdout",
          "text": [
            "Epoch 1/3\n",
            "\u001b[1m3375/3375\u001b[0m \u001b[32m━━━━━━━━━━━━━━━━━━━━\u001b[0m\u001b[37m\u001b[0m \u001b[1m14s\u001b[0m 3ms/step - accuracy: 0.8636 - loss: 0.3931 - val_accuracy: 0.8940 - val_loss: 0.2940\n",
            "Epoch 2/3\n",
            "\u001b[1m3375/3375\u001b[0m \u001b[32m━━━━━━━━━━━━━━━━━━━━\u001b[0m\u001b[37m\u001b[0m \u001b[1m8s\u001b[0m 2ms/step - accuracy: 0.9117 - loss: 0.2510 - val_accuracy: 0.8930 - val_loss: 0.2939\n",
            "Epoch 3/3\n",
            "\u001b[1m3375/3375\u001b[0m \u001b[32m━━━━━━━━━━━━━━━━━━━━\u001b[0m\u001b[37m\u001b[0m \u001b[1m8s\u001b[0m 2ms/step - accuracy: 0.9320 - loss: 0.1891 - val_accuracy: 0.8851 - val_loss: 0.3251\n",
            "\u001b[1m238/238\u001b[0m \u001b[32m━━━━━━━━━━━━━━━━━━━━\u001b[0m\u001b[37m\u001b[0m \u001b[1m4s\u001b[0m 9ms/step - accuracy: 0.9018 - loss: 0.3097\n"
          ]
        },
        {
          "output_type": "stream",
          "name": "stderr",
          "text": [
            "[I 2024-10-29 19:23:30,630] Trial 3 finished with value: 0.8973684310913086 and parameters: {'dropout_rate': 0.25782838864922014, 'learning_rate': 0.0009121907304126861, 'filters': 227, 'kernel_size': 4, 'num_units': 504}. Best is trial 3 with value: 0.8973684310913086.\n"
          ]
        },
        {
          "output_type": "stream",
          "name": "stdout",
          "text": [
            "Epoch 1/3\n",
            "\u001b[1m3375/3375\u001b[0m \u001b[32m━━━━━━━━━━━━━━━━━━━━\u001b[0m\u001b[37m\u001b[0m \u001b[1m13s\u001b[0m 3ms/step - accuracy: 0.7822 - loss: 0.6199 - val_accuracy: 0.8702 - val_loss: 0.3696\n",
            "Epoch 2/3\n",
            "\u001b[1m3375/3375\u001b[0m \u001b[32m━━━━━━━━━━━━━━━━━━━━\u001b[0m\u001b[37m\u001b[0m \u001b[1m7s\u001b[0m 2ms/step - accuracy: 0.8712 - loss: 0.3704 - val_accuracy: 0.8752 - val_loss: 0.3522\n",
            "Epoch 3/3\n",
            "\u001b[1m3375/3375\u001b[0m \u001b[32m━━━━━━━━━━━━━━━━━━━━\u001b[0m\u001b[37m\u001b[0m \u001b[1m7s\u001b[0m 2ms/step - accuracy: 0.8794 - loss: 0.3453 - val_accuracy: 0.8762 - val_loss: 0.3462\n",
            "\u001b[1m238/238\u001b[0m \u001b[32m━━━━━━━━━━━━━━━━━━━━\u001b[0m\u001b[37m\u001b[0m \u001b[1m3s\u001b[0m 8ms/step - accuracy: 0.8741 - loss: 0.3640\n"
          ]
        },
        {
          "output_type": "stream",
          "name": "stderr",
          "text": [
            "[I 2024-10-29 19:24:00,688] Trial 4 finished with value: 0.8755263090133667 and parameters: {'dropout_rate': 0.3586718138420352, 'learning_rate': 3.4281622360638407e-05, 'filters': 152, 'kernel_size': 3, 'num_units': 251}. Best is trial 3 with value: 0.8973684310913086.\n"
          ]
        },
        {
          "output_type": "stream",
          "name": "stdout",
          "text": [
            "Best Trial: FrozenTrial(number=3, state=TrialState.COMPLETE, values=[0.8973684310913086], datetime_start=datetime.datetime(2024, 10, 29, 19, 22, 56, 612280), datetime_complete=datetime.datetime(2024, 10, 29, 19, 23, 30, 630203), params={'dropout_rate': 0.25782838864922014, 'learning_rate': 0.0009121907304126861, 'filters': 227, 'kernel_size': 4, 'num_units': 504}, user_attrs={}, system_attrs={}, intermediate_values={}, distributions={'dropout_rate': FloatDistribution(high=0.5, log=False, low=0.0, step=None), 'learning_rate': FloatDistribution(high=0.01, log=True, low=1e-05, step=None), 'filters': IntDistribution(high=256, log=False, low=64, step=1), 'kernel_size': IntDistribution(high=5, log=False, low=3, step=1), 'num_units': IntDistribution(high=512, log=False, low=64, step=1)}, trial_id=3, value=None)\n"
          ]
        }
      ],
      "source": [
        "def model_builder(trial):\n",
        "    # Define hyperparameters for optimization\n",
        "    dropout_rate = trial.suggest_float('dropout_rate', 0.0, 0.5)\n",
        "    learning_rate = trial.suggest_float('learning_rate', 1e-5, 1e-2, log=True)\n",
        "    filters = trial.suggest_int('filters', 64, 256)\n",
        "    kernel_size = trial.suggest_int('kernel_size', 3, 5)\n",
        "    num_units = trial.suggest_int('num_units', 64, 512)\n",
        "\n",
        "    # Define CNN model structure with Optuna parameters\n",
        "    title_input = Input(shape=(max_length_titles,), name='title_input')\n",
        "    title_embedding = embedding_layer(title_input)\n",
        "    title_conv1d = Conv1D(filters=filters, kernel_size=kernel_size, activation='relu')(title_embedding)\n",
        "    title_maxpool = MaxPooling1D(pool_size=2)(title_conv1d)\n",
        "    title_flatten = Flatten()(title_maxpool)\n",
        "\n",
        "    description_input = Input(shape=(max_length_descriptions,), name='description_input')\n",
        "    description_embedding = embedding_layer(description_input)\n",
        "    description_conv1d = Conv1D(filters=filters, kernel_size=kernel_size, activation='relu')(description_embedding)\n",
        "    description_maxpool = MaxPooling1D(pool_size=2)(description_conv1d)\n",
        "    description_flatten = Flatten()(description_maxpool)\n",
        "\n",
        "    merged = Concatenate()([title_flatten, description_flatten])\n",
        "    dense_1 = Dense(num_units, activation='relu')(merged)\n",
        "    dropout_1 = Dropout(dropout_rate)(dense_1)\n",
        "    output = Dense(4, activation='softmax')(dropout_1)\n",
        "\n",
        "    model = Model(inputs=[title_input, description_input], outputs=output)\n",
        "    optimizer = Adam(learning_rate=learning_rate)\n",
        "    model.compile(optimizer=optimizer, loss='sparse_categorical_crossentropy', metrics=['accuracy'])\n",
        "    return model\n",
        "\n",
        "# Objective function for Optuna\n",
        "def objective(trial):\n",
        "    model = model_builder(trial)\n",
        "    model.fit([X_train_title_pad, X_train_description_pad], y_train, validation_split=0.1, epochs=3, batch_size=32, verbose=1)\n",
        "    _, accuracy = model.evaluate([X_test_title_pad, X_test_description_pad], y_test, verbose=1)\n",
        "    return accuracy\n",
        "\n",
        "# Run Optuna optimization\n",
        "study = optuna.create_study(direction='maximize')\n",
        "study.optimize(objective, n_trials=5)\n",
        "print(\"Best Trial:\", study.best_trial)"
      ]
    },
    {
      "cell_type": "markdown",
      "id": "0a05cc49-7725-4cc1-aea4-ed059e188af0",
      "metadata": {
        "id": "0a05cc49-7725-4cc1-aea4-ed059e188af0"
      },
      "source": [
        "### Testing module 2 (Optimized Model)"
      ]
    },
    {
      "cell_type": "code",
      "execution_count": 7,
      "id": "ee46cd1e-6845-4f0e-835c-ce96554e3a86",
      "metadata": {
        "colab": {
          "base_uri": "https://localhost:8080/",
          "height": 993
        },
        "id": "ee46cd1e-6845-4f0e-835c-ce96554e3a86",
        "outputId": "e90ed53a-ec52-4a5f-be8f-62ff04bedab2"
      },
      "outputs": [
        {
          "output_type": "stream",
          "name": "stdout",
          "text": [
            "Epoch 1/5\n",
            "\u001b[1m3375/3375\u001b[0m \u001b[32m━━━━━━━━━━━━━━━━━━━━\u001b[0m\u001b[37m\u001b[0m \u001b[1m12s\u001b[0m 3ms/step - accuracy: 0.8644 - loss: 0.3890 - val_accuracy: 0.8928 - val_loss: 0.3013\n",
            "Epoch 2/5\n",
            "\u001b[1m3375/3375\u001b[0m \u001b[32m━━━━━━━━━━━━━━━━━━━━\u001b[0m\u001b[37m\u001b[0m \u001b[1m8s\u001b[0m 2ms/step - accuracy: 0.9118 - loss: 0.2521 - val_accuracy: 0.8888 - val_loss: 0.3101\n",
            "Epoch 3/5\n",
            "\u001b[1m3375/3375\u001b[0m \u001b[32m━━━━━━━━━━━━━━━━━━━━\u001b[0m\u001b[37m\u001b[0m \u001b[1m8s\u001b[0m 2ms/step - accuracy: 0.9326 - loss: 0.1862 - val_accuracy: 0.8874 - val_loss: 0.3305\n",
            "Epoch 4/5\n",
            "\u001b[1m3375/3375\u001b[0m \u001b[32m━━━━━━━━━━━━━━━━━━━━\u001b[0m\u001b[37m\u001b[0m \u001b[1m8s\u001b[0m 2ms/step - accuracy: 0.9488 - loss: 0.1381 - val_accuracy: 0.8864 - val_loss: 0.3916\n",
            "Epoch 5/5\n",
            "\u001b[1m3375/3375\u001b[0m \u001b[32m━━━━━━━━━━━━━━━━━━━━\u001b[0m\u001b[37m\u001b[0m \u001b[1m8s\u001b[0m 2ms/step - accuracy: 0.9643 - loss: 0.0976 - val_accuracy: 0.8834 - val_loss: 0.4224\n",
            "\u001b[1m238/238\u001b[0m \u001b[32m━━━━━━━━━━━━━━━━━━━━\u001b[0m\u001b[37m\u001b[0m \u001b[1m2s\u001b[0m 3ms/step\n",
            "Final Test Accuracy: 0.8905\n",
            "Final Classification Report:\n",
            "              precision    recall  f1-score   support\n",
            "\n",
            "           0       0.89      0.90      0.90      1900\n",
            "           1       0.96      0.95      0.96      1900\n",
            "           2       0.84      0.87      0.85      1900\n",
            "           3       0.88      0.84      0.86      1900\n",
            "\n",
            "    accuracy                           0.89      7600\n",
            "   macro avg       0.89      0.89      0.89      7600\n",
            "weighted avg       0.89      0.89      0.89      7600\n",
            "\n"
          ]
        },
        {
          "output_type": "display_data",
          "data": {
            "text/plain": [
              "<Figure size 800x600 with 2 Axes>"
            ],
            "image/png": "[encoded data removed]"
          },
          "metadata": {}
        }
      ],
      "source": [
        "# Load the best model from Optuna optimization\n",
        "best_trial = study.best_trial\n",
        "model = model_builder(best_trial)\n",
        "model.fit([X_train_title_pad, X_train_description_pad], y_train, validation_split=0.1, epochs=5, batch_size=32, verbose=1)\n",
        "\n",
        "# Evaluate optimized model\n",
        "y_pred = model.predict([X_test_title_pad, X_test_description_pad])\n",
        "y_pred_classes = y_pred.argmax(axis=1)\n",
        "\n",
        "final_accuracy = (y_pred_classes == y_test).mean()\n",
        "print(f'Final Test Accuracy: {final_accuracy:.4f}')\n",
        "print(\"Final Classification Report:\")\n",
        "print(classification_report(y_test, y_pred_classes))\n",
        "\n",
        "# Confusion Matrix for optimized model\n",
        "conf_matrix = confusion_matrix(y_test, y_pred_classes)\n",
        "plt.figure(figsize=(8, 6))\n",
        "sns.heatmap(conf_matrix, annot=True, fmt='d', cmap='Blues', xticklabels=[0, 1, 2, 3], yticklabels=[0, 1, 2, 3])\n",
        "plt.xlabel('Predicted Label')\n",
        "plt.ylabel('True Label')\n",
        "plt.title('Optimized Model Confusion Matrix')\n",
        "plt.show()"
      ]
    },
    {
      "cell_type": "code",
      "execution_count": 7,
      "id": "f8067f72-a519-4449-ac64-8ae3e97291ec",
      "metadata": {
        "id": "f8067f72-a519-4449-ac64-8ae3e97291ec"
      },
      "outputs": [],
      "source": []
    }
  ],
  "metadata": {
    "accelerator": "GPU",
    "colab": {
      "gpuType": "A100",
      "provenance": [],
      "machine_shape": "hm"
    },
    "kernelspec": {
      "display_name": "Python 3",
      "name": "python3"
    },
    "language_info": {
      "codemirror_mode": {
        "name": "ipython",
        "version": 3
      },
      "file_extension": ".py",
      "mimetype": "text/x-python",
      "name": "python",
      "nbconvert_exporter": "python",
      "pygments_lexer": "ipython3",
      "version": "3.12.4"
    }
  },
  "nbformat": 4,
  "nbformat_minor": 5
}